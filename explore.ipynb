{
 "cells": [
  {
   "cell_type": "markdown",
   "metadata": {
    "slideshow": {
     "slide_type": "slide"
    }
   },
   "source": [
    "\n",
    "<div style=\"position: relative; text-align: center;\">\n",
    "    <img src=\"img/earth_thin.png\" alt=\"drawing\" style=\"width:100%;\">\n",
    "    <div style=\"position: absolute; top: 50%; left: 52%; transform: translate(-50%, -50%); color: white;\">\n",
    "        <h1 style=\"text-align: left\">Screening Interview</h1>\n",
    "        <h2 style=\"text-align: left\">Global Canopy Data Researcher</h2>\n",
    "        <h3 style=\"text-align: left\">Ian Goodrich</h3>\n",
    "        <h4 style=\"text-align: left\">November 2024</h4>\n",
    "</div>\n",
    "\n"
   ]
  },
  {
   "cell_type": "markdown",
   "metadata": {},
   "source": [
    "## What is ENCORE?\n",
    "ENCORE maps the ways the ways in which human economic activity depends on and impacts the natural world, and is intended to support financial institutions in decision-making and reporting.\n",
    "\n",
    "It is as much a framework as a dataset, making explicit the links between economic activities and the natural world. The data contained in the ENCORE dataset is derived from a literature review and qualiatative scoring process.\n",
    "\n",
    "## Key concepts\n",
    "- ENCORE uses the International Standard Classification of all Economic Activities (ISIC) as a schema for **economic activities**.\n",
    "- It maps **dependencies** of economic activities on **ecosystem services**, which are classified according to the UN System of Environmental-Economic Accounting Ecosystem Accounting (SEEA - EA).\n",
    "- It also maps **pressures** exerted by economic activities on ecosystems. Pressures are classified in line with the Driver-Pressure-State-Impact-Response (DPSIR) framework, using a modified version of the Natural Capital Protocol (2016).\n",
    "- Relationships have **materiality scores** indicating the extent to which an economic activity depends on or pressures the natural world.\n",
    "\n"
   ]
  },
  {
   "cell_type": "markdown",
   "metadata": {},
   "source": [
    "## Goals\n",
    "- Build familiarity with the ENCORE dataset and Global Canopy's work\n",
    "- To use ENCORE data to generate an insight into the relationship between human activity and the natural world\n",
    "- To visualise the relationships in the data in a compelling way"
   ]
  },
  {
   "cell_type": "markdown",
   "metadata": {},
   "source": [
    "## Data preparation\n",
    "- I do some initial eyeballing and manual cleaning in LibreOffice Calc, deleting leading rows and fixing a csv encoding bug which was causing issues when importing into Python. The cleaned data is in `data/clean`.\n",
    "- Materiality data is presented in \"wide\" format, with the first six columns containing data on the economic activities, and the remaining columns containing the materiality scores for each ecosystem service/pressure. I convert it to \"long\" format, so that each row represents a single relationship.\n",
    "- Scores are presented as strings (i.e., \"VL\", \"L\", \"M\", \"H\", \"VH\"), which I convert to numerical values between 0 (VL) and 1 (VH) allowing for quantitative analysis."
   ]
  },
  {
   "cell_type": "code",
   "execution_count": 1,
   "metadata": {},
   "outputs": [],
   "source": [
    "import pandas as pd\n",
    "import statsmodels.api as sm\n",
    "import plotly.express as px\n",
    "import plotly.graph_objects as go\n",
    "import plotly.io as pio\n",
    "\n",
    "# Definite file paths for reading\n",
    "file_paths = [\n",
    "    {\"type\": \"dependency\", \"path\": \"data/encore/clean/06_dependency_mat_ratings.csv\"},\n",
    "    {\"type\": \"pressure\", \"path\": \"data/encore/clean/07_pressure_mat_ratings.csv\"},\n",
    "]\n",
    "\n",
    "# Read in data\n",
    "out = []\n",
    "for file in file_paths:\n",
    "    df = pd.read_csv(file[\"path\"])\n",
    "\n",
    "    # Rename columns\n",
    "    df.columns = [\n",
    "        (\n",
    "            i.replace(\"ISIC\", \"\").strip().replace(\" \", \"_\").lower()\n",
    "            if i in df.columns[:6]\n",
    "            else i\n",
    "        )\n",
    "        for i in df.columns\n",
    "    ]\n",
    "    df.rename(columns={\"level_used_for_analysis\": \"level\"}, inplace=True)\n",
    "\n",
    "    # Reshape to long format\n",
    "    df = df.melt(\n",
    "        id_vars=df.columns[:6],\n",
    "        value_vars=df.columns[6:],\n",
    "        var_name=\"ecol\",\n",
    "        value_name=\"rating\",\n",
    "    )\n",
    "\n",
    "    # Map scores to numbers for analysis, all a bit arbitray, I've decided \"ND\" is null\n",
    "    score_map = {\n",
    "        \"VL\": 0,\n",
    "        \"L\": 0.25,\n",
    "        \"M\": 0.5,\n",
    "        \"H\": 0.75,\n",
    "        \"VH\": 1,\n",
    "        \"ND\": None,\n",
    "        \"N/A\": None,\n",
    "    }\n",
    "    df[\"rating\"] = df[\"rating\"].map(score_map)\n",
    "\n",
    "    # Drop rows with no rating\n",
    "    df.dropna(subset=[\"rating\"], inplace=True)\n",
    "\n",
    "    # Set type\n",
    "    df[\"relationship_type\"] = file[\"type\"]\n",
    "\n",
    "    # We'll want to sort things by section later, so taking the stem of the code\n",
    "    df[\"code_stem\"] = df[\"unique_code\"].str[0]\n",
    "\n",
    "    out.append(df)\n",
    "\n",
    "# Main df\n",
    "df = pd.concat(out)"
   ]
  },
  {
   "cell_type": "markdown",
   "metadata": {},
   "source": [
    "## Scoring activities\n",
    "- The ENCORE analysis produced materiality scores at different levels of the ISIC hierarchy (either \"Group\" or \"Class\"). For my analysis, I use the label of the lowest level, and group at highest \"Section\" level.\n",
    "- I calculate the mean materiality score for dependencies and pressures for each economic activity. This tells us, on average, across all relationships, which sectors are more depedent and which exert the most pressure."
   ]
  },
  {
   "cell_type": "code",
   "execution_count": 2,
   "metadata": {},
   "outputs": [],
   "source": [
    "# Get lowest level of analysis\n",
    "df[\"analysis\"] = df[\"class\"].fillna(df[\"group\"])\n",
    "\n",
    "\n",
    "# Group scores with mean rating for plotting\n",
    "group_scores = (\n",
    "    df.groupby([\"code_stem\", \"section\", \"analysis\", \"level\", \"relationship_type\"])[\n",
    "        \"rating\"\n",
    "    ]\n",
    "    .mean()\n",
    "    .unstack()\n",
    "    .reset_index()\n",
    "    .sort_values(\"code_stem\")\n",
    ")\n",
    "\n",
    "# I also shorten the really long section title for plotting\n",
    "group_scores[\"section\"] = group_scores[\"section\"].str.replace(\n",
    "    \"Activities of households as employers; undifferentiated goods- and services-producing activities of households for own use\",\n",
    "    \"Household activities\",\n",
    ")"
   ]
  },
  {
   "cell_type": "markdown",
   "metadata": {},
   "source": [
    "## Examining relationship between pressure and dependency\n",
    "I take a quick look to see if there's any correlation between pressure and dependency. \n",
    "\n",
    "It seems like there's a positive linear relationship, which I pull out the predictions of for plotting."
   ]
  },
  {
   "cell_type": "code",
   "execution_count": 3,
   "metadata": {},
   "outputs": [
    {
     "name": "stdout",
     "output_type": "stream",
     "text": [
      "Positive correlation between dependency and pressure\n",
      "\n",
      " relationship_type  dependency  pressure\n",
      "relationship_type                      \n",
      "dependency           1.000000  0.694048\n",
      "pressure             0.694048  1.000000\n",
      "\n",
      "Model summary\n",
      "                            OLS Regression Results                            \n",
      "==============================================================================\n",
      "Dep. Variable:               pressure   R-squared:                       0.337\n",
      "Model:                            OLS   Adj. R-squared:                  0.334\n",
      "Method:                 Least Squares   F-statistic:                     139.6\n",
      "Date:                Tue, 26 Nov 2024   Prob (F-statistic):           2.51e-26\n",
      "Time:                        10:28:49   Log-Likelihood:                 126.06\n",
      "No. Observations:                 277   AIC:                            -248.1\n",
      "Df Residuals:                     275   BIC:                            -240.9\n",
      "Df Model:                           1                                         \n",
      "Covariance Type:            nonrobust                                         \n",
      "==============================================================================\n",
      "                 coef    std err          t      P>|t|      [0.025      0.975]\n",
      "------------------------------------------------------------------------------\n",
      "const          0.1834      0.017     10.597      0.000       0.149       0.217\n",
      "dependency     0.6005      0.051     11.815      0.000       0.500       0.701\n",
      "==============================================================================\n",
      "Omnibus:                        4.811   Durbin-Watson:                   1.450\n",
      "Prob(Omnibus):                  0.090   Jarque-Bera (JB):                6.490\n",
      "Skew:                           0.030   Prob(JB):                       0.0390\n",
      "Kurtosis:                       3.747   Cond. No.                         5.96\n",
      "==============================================================================\n",
      "\n",
      "Notes:\n",
      "[1] Standard Errors assume that the covariance matrix of the errors is correctly specified.\n"
     ]
    }
   ],
   "source": [
    "print(\"Positive correlation between dependency and pressure\")\n",
    "print(\"\\n\", group_scores[[\"dependency\", \"pressure\"]].corr())\n",
    "\n",
    "# Run it through a linear model for plotting\n",
    "x = group_scores[\"dependency\"].fillna(0)\n",
    "y = group_scores[\"pressure\"].fillna(0)\n",
    "X = sm.add_constant(x)\n",
    "model = sm.OLS(y, X).fit()\n",
    "line = model.predict(X)\n",
    "\n",
    "print(\"\\nModel summary\")\n",
    "print(model.summary())"
   ]
  },
  {
   "cell_type": "code",
   "execution_count": 4,
   "metadata": {},
   "outputs": [
    {
     "data": {
      "application/vnd.plotly.v1+json": {
       "config": {
        "displayModeBar": false,
        "plotlyServerURL": "https://plot.ly"
       },
       "data": [
        {
         "customdata": [
          [
           "Group"
          ],
          [
           "Group"
          ],
          [
           "Class"
          ],
          [
           "Class"
          ],
          [
           "Group"
          ],
          [
           "Class"
          ],
          [
           "Class"
          ],
          [
           "Class"
          ],
          [
           "Class"
          ],
          [
           "Class"
          ],
          [
           "Class"
          ],
          [
           "Class"
          ],
          [
           "Class"
          ],
          [
           "Group"
          ],
          [
           "Class"
          ],
          [
           "Group"
          ],
          [
           "Group"
          ],
          [
           "Group"
          ],
          [
           "Class"
          ],
          [
           "Class"
          ],
          [
           "Group"
          ],
          [
           "Group"
          ],
          [
           "Class"
          ],
          [
           "Class"
          ],
          [
           "Class"
          ],
          [
           "Class"
          ],
          [
           "Group"
          ],
          [
           "Class"
          ]
         ],
         "hovertemplate": "<b>%{hovertext}</b><br><br>section=Agriculture, forestry and fishing<br>dependency=%{x}<br>pressure=%{y}<br>level=%{customdata[0]}<extra></extra>",
         "hovertext": [
          "Aquaculture",
          "Support services to forestry",
          "Support activities for crop production",
          "Support activities for animal production",
          "Silviculture and other forestry activities",
          "Seed processing for propagation",
          "Raising of swine/pigs",
          "Raising of sheep and goats",
          "Raising of poultry",
          "Raising of other animals",
          "Raising of horses and other equines",
          "Raising of cattle and buffaloes",
          "Post-harvest crop activities",
          "Plant propagation",
          "Raising of camels and camelids",
          "Logging",
          "Fishing",
          "Gathering of non-wood forest products",
          "Growing of cereals (except rice), leguminous crops and oil seeds",
          "Growing of fibre crops",
          "Mixed farming",
          "Growing of perennial crops",
          "Growing of other non-perennial crops ",
          "Growing of sugar cane",
          "Growing of tobacco",
          "Growing of vegetables and melons, roots and tubers",
          "Hunting, trapping and related service activities",
          "Growing of rice "
         ],
         "legendgroup": "Agriculture, forestry and fishing",
         "marker": {
          "color": "#636efa",
          "symbol": "circle"
         },
         "mode": "markers",
         "name": "Agriculture, forestry and fishing",
         "orientation": "v",
         "showlegend": true,
         "type": "scatter",
         "x": [
          0.7058823529411765,
          0.4107142857142857,
          0.45,
          0.325,
          0.7777777777777778,
          0.4868421052631579,
          0.5375,
          0.55,
          0.5,
          0.5375,
          0.5625,
          0.5952380952380952,
          0.5,
          0.7976190476190477,
          0.5,
          0.5384615384615384,
          0.7894736842105263,
          0.6842105263157895,
          0.7631578947368421,
          0.75,
          0.7619047619047619,
          0.7763157894736842,
          0.7236842105263158,
          0.7361111111111112,
          0.7763157894736842,
          0.7894736842105263,
          0.48214285714285715,
          0.7368421052631579
         ],
         "xaxis": "x",
         "y": [
          0.6818181818181818,
          0.42857142857142855,
          0.7222222222222222,
          0.6666666666666666,
          0.71875,
          0.6428571428571429,
          0.6666666666666666,
          0.7,
          0.6666666666666666,
          0.7,
          0.7,
          0.775,
          0.6785714285714286,
          0.7,
          0.6944444444444444,
          0.65,
          0.625,
          0.45,
          0.75,
          0.675,
          0.7,
          0.675,
          0.675,
          0.725,
          0.675,
          0.65,
          0.35714285714285715,
          0.725
         ],
         "yaxis": "y"
        },
        {
         "customdata": [
          [
           "Group"
          ],
          [
           "Group"
          ],
          [
           "Group"
          ],
          [
           "Group"
          ],
          [
           "Group"
          ],
          [
           "Group"
          ],
          [
           "Group"
          ],
          [
           "Group"
          ],
          [
           "Group"
          ],
          [
           "Group"
          ]
         ],
         "hovertemplate": "<b>%{hovertext}</b><br><br>section=Mining and quarrying<br>dependency=%{x}<br>pressure=%{y}<br>level=%{customdata[0]}<extra></extra>",
         "hovertext": [
          "Mining of non-ferrous metal ores",
          "Support activities for petroleum and natural gas extraction",
          "Support activities for other mining and quarrying",
          "Quarrying of stone, sand and clay",
          "Mining of lignite",
          "Extraction of crude petroleum",
          "Mining of hard coal",
          "Mining and quarrying n.e.c.",
          "Extraction of natural gas",
          "Mining of iron ores"
         ],
         "legendgroup": "Mining and quarrying",
         "marker": {
          "color": "#EF553B",
          "symbol": "circle"
         },
         "mode": "markers",
         "name": "Mining and quarrying",
         "orientation": "v",
         "showlegend": true,
         "type": "scatter",
         "x": [
          0.48333333333333334,
          0.1875,
          0.3076923076923077,
          0.5166666666666667,
          0.5,
          0.3269230769230769,
          0.5,
          0.5,
          0.3076923076923077,
          0.48333333333333334
         ],
         "xaxis": "x",
         "y": [
          0.7272727272727273,
          0.475,
          0.625,
          0.6136363636363636,
          0.6111111111111112,
          0.625,
          0.6111111111111112,
          0.5909090909090909,
          0.575,
          0.5909090909090909
         ],
         "yaxis": "y"
        },
        {
         "customdata": [
          [
           "Group"
          ],
          [
           "Group"
          ],
          [
           "Group"
          ],
          [
           "Group"
          ],
          [
           "Class"
          ],
          [
           "Group"
          ],
          [
           "Group"
          ],
          [
           "Group"
          ],
          [
           "Group"
          ],
          [
           "Group"
          ],
          [
           "Class"
          ],
          [
           "Group"
          ],
          [
           "Group"
          ],
          [
           "Group"
          ],
          [
           "Group"
          ],
          [
           "Group"
          ],
          [
           "Group"
          ],
          [
           "Group"
          ],
          [
           "Class"
          ],
          [
           "Group"
          ],
          [
           "Group"
          ],
          [
           "Group"
          ],
          [
           "Group"
          ],
          [
           "Group"
          ],
          [
           "Group"
          ],
          [
           "Group"
          ],
          [
           "Group"
          ],
          [
           "Class"
          ],
          [
           "Group"
          ],
          [
           "Class"
          ],
          [
           "Group"
          ],
          [
           "Class"
          ],
          [
           "Group"
          ],
          [
           "Group"
          ],
          [
           "Group"
          ],
          [
           "Class"
          ],
          [
           "Group"
          ],
          [
           "Group"
          ],
          [
           "Group"
          ],
          [
           "Group"
          ],
          [
           "Group"
          ],
          [
           "Group"
          ],
          [
           "Group"
          ],
          [
           "Group"
          ],
          [
           "Group"
          ],
          [
           "Group"
          ],
          [
           "Group"
          ],
          [
           "Group"
          ],
          [
           "Group"
          ],
          [
           "Group"
          ],
          [
           "Group"
          ],
          [
           "Class"
          ],
          [
           "Group"
          ],
          [
           "Group"
          ],
          [
           "Group"
          ],
          [
           "Class"
          ],
          [
           "Group"
          ],
          [
           "Group"
          ],
          [
           "Group"
          ],
          [
           "Group"
          ],
          [
           "Group"
          ],
          [
           "Class"
          ],
          [
           "Group"
          ],
          [
           "Group"
          ],
          [
           "Group"
          ],
          [
           "Group"
          ],
          [
           "Group"
          ],
          [
           "Group"
          ],
          [
           "Class"
          ],
          [
           "Group"
          ],
          [
           "Group"
          ],
          [
           "Group"
          ],
          [
           "Group"
          ],
          [
           "Group"
          ],
          [
           "Group"
          ],
          [
           "Group"
          ],
          [
           "Group"
          ],
          [
           "Group"
          ],
          [
           "Group"
          ],
          [
           "Group"
          ]
         ],
         "hovertemplate": "<b>%{hovertext}</b><br><br>section=Manufacturing<br>dependency=%{x}<br>pressure=%{y}<br>level=%{customdata[0]}<extra></extra>",
         "hovertext": [
          "Manufacture of tobacco products",
          "Manufacture of structural metal products, tanks, reservoirs and steam generators",
          "Manufacture of sports goods",
          "Manufacture of special-purpose machinery",
          "Manufacture of soft drinks; production of mineral waters and other bottled waters",
          "Manufacture of rubber products",
          "Manufacture of refined petroleum products",
          "Manufacture of railway locomotives and rolling stock",
          "Manufacture of prepared animal feeds",
          "Manufacture of plastics products",
          "Manufacture of plastics and synthetic rubber in primary forms",
          "Manufacture of pharmaceuticals, medicinal chemical and botanical products",
          "Manufacture of parts and accessories for motor vehicles",
          "Manufacture of paper and paper products",
          "Manufacture of other textiles",
          "Manufacture of other food products",
          "Manufacture of transport equipment n.e.c.",
          "Manufacture of products of wood, cork, straw and plaiting materials",
          "Manufacture of vegetable and animal oils and fats",
          "Manufacture of weapons and ammunition",
          "Manufacture of other fabricated metal products; metalworking service activities",
          "Tanning and dressing of leather; manufacture of luggage, handbags, saddlery and harness; dressing and dyeing of fur",
          "Spinning, weaving and finishing of textiles",
          "Sawmilling and planing of wood",
          "Reproduction of recorded media",
          "Repair of fabricated metal products, machinery and equipment",
          "Processing and preserving of meat",
          "Processing and preserving of meat",
          "Processing and preserving of fruit and vegetables",
          "Processing and preserving of fruit and vegetables",
          "Processing and preserving of fish, crustaceans and molluscs",
          "Processing and preserving of fish, crustaceans and molluscs",
          "Printing and service activities related to printing",
          "Other manufacturing n.e.c.",
          "Manufacture of wiring and wiring devices",
          "Manufacture of wines",
          "Manufacture of wearing apparel, except fur apparel",
          "Manufacture of vegetable and animal oils and fats",
          "Manufacture of other electrical equipment",
          "Manufacture of man-made fibres",
          "Manufacture of optical instruments and photographic equipment",
          "Manufacture of domestic appliances",
          "Manufacture of dairy products",
          "Manufacture of consumer electronics",
          "Manufacture of computers and peripheral equipment",
          "Manufacture of communication equipment",
          "Manufacture of coke oven products ",
          "Manufacture of bodies (coachwork) for motor vehicles; manufacture of trailers and semi-trailers",
          "Manufacture of other chemical products",
          "Manufacture of basic precious and other non-ferrous metals",
          "Manufacture of basic iron and steel",
          "Manufacture of basic chemicals",
          "Manufacture of articles of fur",
          "Manufacture of air and spacecraft and related machinery",
          "Installation of industrial machinery and equipment",
          "Distilling, rectifying and blending of spirits",
          "Casting of metals",
          "Building of ships and boats",
          "Manufacture of electric lighting equipment",
          "Manufacture of electric motors, generators, transformers and electricity distribution and control apparatus",
          "Manufacture of batteries and accumulators",
          "Manufacture of fertilizers and nitrogen compounds",
          "Manufacture of non-metallic mineral products n.e.c.",
          "Manufacture of musical instruments",
          "Manufacture of motor vehicles",
          "Manufacture of military fighting vehicles",
          "Manufacture of medical and dental instruments and supplies",
          "Manufacture of measuring, testing, navigating and control equipment; watches and clocks",
          "Manufacture of malt liquors and malt",
          "Manufacture of knitted and crocheted apparel",
          "Manufacture of magnetic and optical media",
          "Manufacture of irradiation, electromedical and electrotherapeutic equipment",
          "Manufacture of grain mill products, starches and starch products",
          "Manufacture of glass and glass products",
          "Manufacture of general-purpose machinery",
          "Manufacture of games and toys",
          "Manufacture of furniture",
          "Manufacture of footwear",
          "Manufacture of jewellery, bijouterie and related articles",
          "Manufacture of electronic components and boards"
         ],
         "legendgroup": "Manufacturing",
         "marker": {
          "color": "#00cc96",
          "symbol": "circle"
         },
         "mode": "markers",
         "name": "Manufacturing",
         "orientation": "v",
         "showlegend": true,
         "type": "scatter",
         "x": [
          0.3125,
          0.2708333333333333,
          0.2692307692307692,
          0.25,
          0.38461538461538464,
          0.2727272727272727,
          0.3125,
          0.23214285714285715,
          0.36538461538461536,
          0.23214285714285715,
          0.30357142857142855,
          0.5,
          0.25,
          0.28846153846153844,
          0.25,
          0.3958333333333333,
          0.23214285714285715,
          0.3076923076923077,
          0.36538461538461536,
          0.2857142857142857,
          0.3125,
          0.28846153846153844,
          0.31666666666666665,
          0.2692307692307692,
          0.32142857142857145,
          0.22916666666666666,
          null,
          0.4090909090909091,
          null,
          0.4090909090909091,
          null,
          0.45,
          0.34375,
          0.3076923076923077,
          0.2857142857142857,
          0.5,
          0.26785714285714285,
          null,
          0.3076923076923077,
          0.2708333333333333,
          0.25,
          0.30357142857142855,
          0.36538461538461536,
          0.25,
          0.23214285714285715,
          0.25,
          0.2727272727272727,
          0.23214285714285715,
          0.3076923076923077,
          0.38636363636363635,
          0.3269230769230769,
          0.26785714285714285,
          0.26785714285714285,
          0.31666666666666665,
          0.25,
          0.5,
          0.4722222222222222,
          0.275,
          0.30357142857142855,
          0.2857142857142857,
          0.2857142857142857,
          0.35714285714285715,
          0.3333333333333333,
          0.32142857142857145,
          0.25,
          0.2692307692307692,
          0.34615384615384615,
          0.25,
          0.5,
          0.26785714285714285,
          0.25,
          0.25,
          0.3541666666666667,
          0.35714285714285715,
          0.25,
          0.3,
          0.26785714285714285,
          0.3333333333333333,
          0.26785714285714285,
          0.25
         ],
         "xaxis": "x",
         "y": [
          0.5,
          0.35714285714285715,
          0.4642857142857143,
          0.35714285714285715,
          0.4375,
          0.42857142857142855,
          0.6071428571428571,
          0.35714285714285715,
          0.40625,
          0.5,
          0.6428571428571429,
          0.46875,
          0.2857142857142857,
          0.5357142857142857,
          0.4375,
          0.39285714285714285,
          0.2857142857142857,
          0.5,
          null,
          0.35714285714285715,
          0.42857142857142855,
          0.46875,
          0.4375,
          0.39285714285714285,
          0.3333333333333333,
          0.375,
          0.53125,
          null,
          0.35714285714285715,
          null,
          0.46875,
          null,
          0.3,
          0.5,
          0.2857142857142857,
          0.34375,
          0.39285714285714285,
          0.46875,
          0.32142857142857145,
          0.4642857142857143,
          0.4642857142857143,
          0.35714285714285715,
          0.40625,
          0.4642857142857143,
          0.32142857142857145,
          0.32142857142857145,
          null,
          0.2857142857142857,
          0.6071428571428571,
          0.59375,
          0.6785714285714286,
          0.6071428571428571,
          0.39285714285714285,
          0.39285714285714285,
          0.4444444444444444,
          0.32142857142857145,
          0.46875,
          0.4166666666666667,
          0.32142857142857145,
          0.32142857142857145,
          0.32142857142857145,
          0.65625,
          0.5833333333333334,
          0.4583333333333333,
          0.35714285714285715,
          0.35714285714285715,
          0.5,
          0.4642857142857143,
          0.34375,
          0.42857142857142855,
          0.4642857142857143,
          0.4642857142857143,
          0.42857142857142855,
          0.4583333333333333,
          0.39285714285714285,
          0.4642857142857143,
          0.5,
          0.42857142857142855,
          0.4642857142857143,
          0.32142857142857145
         ],
         "yaxis": "y"
        },
        {
         "customdata": [
          [
           "Group"
          ],
          [
           "Group"
          ],
          [
           "Group"
          ],
          [
           "Group"
          ],
          [
           "Group"
          ],
          [
           "Group"
          ],
          [
           "Group"
          ],
          [
           "Group"
          ],
          [
           "Group"
          ],
          [
           "Group"
          ],
          [
           "Group"
          ],
          [
           "Group"
          ],
          [
           "Group"
          ],
          [
           "Group"
          ],
          [
           "Group"
          ]
         ],
         "hovertemplate": "<b>%{hovertext}</b><br><br>section=Professional, scientific and technical activities<br>dependency=%{x}<br>pressure=%{y}<br>level=%{customdata[0]}<extra></extra>",
         "hovertext": [
          "Manufacture of coke oven products",
          "Accounting, bookkeeping and auditing activities; tax consultancy",
          "Veterinary activities",
          "Technical testing and analysis",
          "Research and experimental development on social sciences and humanities",
          "Research and experimental development on natural sciences and engineering",
          "Photographic activities",
          "Other professional, scientific and technical activities n.e.c.",
          "Specialized design activities",
          "Management consultancy activities",
          "Legal activities",
          "Architectural and engineering activities and related technical consultancy",
          "Advertising",
          "Activities of head offices",
          "Market research and public opinion polling"
         ],
         "legendgroup": "Professional, scientific and technical activities",
         "marker": {
          "color": "#ab63fa",
          "symbol": "circle"
         },
         "mode": "markers",
         "name": "Professional, scientific and technical activities",
         "orientation": "v",
         "showlegend": true,
         "type": "scatter",
         "x": [
          null,
          0.05555555555555555,
          0.28846153846153844,
          0.25,
          0.2,
          0.2222222222222222,
          0.2727272727272727,
          0.14583333333333334,
          0.3125,
          0.027777777777777776,
          0.05,
          0.1388888888888889,
          0.027777777777777776,
          0.05555555555555555,
          0.08333333333333333
         ],
         "xaxis": "x",
         "y": [
          0.6071428571428571,
          0.10714285714285714,
          0.25,
          0.09375,
          0.32142857142857145,
          0.2777777777777778,
          0.10714285714285714,
          0.10714285714285714,
          0.10714285714285714,
          0.10714285714285714,
          0.10714285714285714,
          0.10714285714285714,
          0.10714285714285714,
          0.10714285714285714,
          0.10714285714285714
         ],
         "yaxis": "y"
        },
        {
         "customdata": [
          [
           "Group"
          ],
          [
           "Class"
          ],
          [
           "Class"
          ],
          [
           "Class"
          ],
          [
           "Class"
          ],
          [
           "Class"
          ],
          [
           "Class"
          ],
          [
           "Class"
          ],
          [
           "Class"
          ],
          [
           "Class"
          ],
          [
           "Class"
          ],
          [
           "Group"
          ]
         ],
         "hovertemplate": "<b>%{hovertext}</b><br><br>section=Electricity, gas, steam and air conditioning supply<br>dependency=%{x}<br>pressure=%{y}<br>level=%{customdata[0]}<extra></extra>",
         "hovertext": [
          "Steam and air conditioning supply",
          "Solar energy production",
          "Wind energy production",
          "Ocean energy production",
          "Transmission and distribution of electricity",
          "Nuclear power production",
          "Fossil fuels energy production",
          "Hydropower energy production",
          "Geothermal energy production",
          "Fossil fuels energy production ",
          "Biomass energy production",
          "Manufacture of gas; distribution of gaseous fuels through mains"
         ],
         "legendgroup": "Electricity, gas, steam and air conditioning supply",
         "marker": {
          "color": "#FFA15A",
          "symbol": "circle"
         },
         "mode": "markers",
         "name": "Electricity, gas, steam and air conditioning supply",
         "orientation": "v",
         "showlegend": true,
         "type": "scatter",
         "x": [
          0.21153846153846154,
          0.5,
          0.53125,
          0.375,
          0.2,
          0.3333333333333333,
          null,
          0.6388888888888888,
          0.29545454545454547,
          0.4090909090909091,
          0.25,
          0.14583333333333334
         ],
         "xaxis": "x",
         "y": [
          0.5416666666666666,
          0.1,
          0.3333333333333333,
          0.1875,
          0.19444444444444445,
          0.4375,
          0.78125,
          0.4583333333333333,
          0.42857142857142855,
          null,
          0.6388888888888888,
          0.53125
         ],
         "yaxis": "y"
        },
        {
         "customdata": [
          [
           "Group"
          ],
          [
           "Group"
          ],
          [
           "Group"
          ],
          [
           "Group"
          ],
          [
           "Group"
          ],
          [
           "Group"
          ]
         ],
         "hovertemplate": "<b>%{hovertext}</b><br><br>section=Water supply; sewerage, waste management and remediation activities<br>dependency=%{x}<br>pressure=%{y}<br>level=%{customdata[0]}<extra></extra>",
         "hovertext": [
          "Materials recovery",
          "Remediation activities and other waste management services",
          "Sewerage",
          "Waste collection",
          "Waste treatment and disposal",
          "Water collection, treatment and supply"
         ],
         "legendgroup": "Water supply; sewerage, waste management and remediation activities",
         "marker": {
          "color": "#19d3f3",
          "symbol": "circle"
         },
         "mode": "markers",
         "name": "Water supply; sewerage, waste management and remediation activities",
         "orientation": "v",
         "showlegend": true,
         "type": "scatter",
         "x": [
          0.19230769230769232,
          0.4090909090909091,
          0.35714285714285715,
          0.3333333333333333,
          0.26785714285714285,
          0.4
         ],
         "xaxis": "x",
         "y": [
          0.53125,
          0.5555555555555556,
          0.6363636363636364,
          0.5555555555555556,
          0.6111111111111112,
          0.5
         ],
         "yaxis": "y"
        },
        {
         "customdata": [
          [
           "Group"
          ],
          [
           "Group"
          ],
          [
           "Group"
          ],
          [
           "Group"
          ],
          [
           "Group"
          ],
          [
           "Group"
          ],
          [
           "Group"
          ],
          [
           "Group"
          ]
         ],
         "hovertemplate": "<b>%{hovertext}</b><br><br>section=Construction<br>dependency=%{x}<br>pressure=%{y}<br>level=%{customdata[0]}<extra></extra>",
         "hovertext": [
          "Demolition and site preparation",
          "Other specialized construction activities",
          "Electrical, plumbing and other construction installation activities",
          "Construction of utility projects",
          "Construction of buildings",
          "Construction of other civil engineering projects",
          "Building completion and finishing",
          "Construction of roads and railways"
         ],
         "legendgroup": "Construction",
         "marker": {
          "color": "#FF6692",
          "symbol": "circle"
         },
         "mode": "markers",
         "name": "Construction",
         "orientation": "v",
         "showlegend": true,
         "type": "scatter",
         "x": [
          0.3076923076923077,
          0.30357142857142855,
          0.3333333333333333,
          0.40384615384615385,
          0.35,
          0.4423076923076923,
          0.34375,
          0.4423076923076923
         ],
         "xaxis": "x",
         "y": [
          0.475,
          0.475,
          0.375,
          0.525,
          0.5,
          0.525,
          0.42857142857142855,
          0.475
         ],
         "yaxis": "y"
        },
        {
         "customdata": [
          [
           "Group"
          ],
          [
           "Group"
          ],
          [
           "Group"
          ],
          [
           "Group"
          ],
          [
           "Group"
          ],
          [
           "Group"
          ],
          [
           "Group"
          ],
          [
           "Group"
          ],
          [
           "Group"
          ],
          [
           "Group"
          ],
          [
           "Group"
          ],
          [
           "Group"
          ],
          [
           "Group"
          ],
          [
           "Group"
          ],
          [
           "Group"
          ],
          [
           "Group"
          ],
          [
           "Group"
          ],
          [
           "Group"
          ],
          [
           "Group"
          ],
          [
           "Group"
          ]
         ],
         "hovertemplate": "<b>%{hovertext}</b><br><br>section=Wholesale and retail trade; repair of motor vehicles and motorcycles<br>dependency=%{x}<br>pressure=%{y}<br>level=%{customdata[0]}<extra></extra>",
         "hovertext": [
          "Maintenance and repair of motor vehicles",
          "Wholesale on a fee or contract basis",
          "Wholesale of machinery, equipment and supplies",
          "Wholesale of household goods",
          "Wholesale of food, beverages and tobacco",
          "Wholesale of agricultural raw materials and live animals",
          "Sale, maintenance and repair of motorcycles and related parts and accessories",
          "Sale of motor vehicles",
          "Retail trade not in stores, stalls or markets",
          "Retail sale via stalls and markets",
          "Sale of motor vehicle parts and accessories",
          "Retail sale of other goods in specialized stores",
          "Retail sale of information and communications equipment in specialized stores",
          "Retail sale of food, beverages and tobacco in specialized stores",
          "Retail sale of cultural and recreation goods in specialized stores",
          "Retail sale of automotive fuel in specialized stores",
          "Retail sale in non-specialized stores",
          "Other specialized wholesale",
          "Non-specialized wholesale trade",
          "Retail sale of other household equipment in specialized stores"
         ],
         "legendgroup": "Wholesale and retail trade; repair of motor vehicles and motorcycles",
         "marker": {
          "color": "#B6E880",
          "symbol": "circle"
         },
         "mode": "markers",
         "name": "Wholesale and retail trade; repair of motor vehicles and motorcycles",
         "orientation": "v",
         "showlegend": true,
         "type": "scatter",
         "x": [
          0.1590909090909091,
          0.21428571428571427,
          0.16666666666666666,
          0.16666666666666666,
          0.2222222222222222,
          0.25,
          0.125,
          0.16666666666666666,
          0.125,
          0.4583333333333333,
          0.16666666666666666,
          0.25,
          0.25,
          0.275,
          0.25,
          0.22727272727272727,
          0.25,
          0.2222222222222222,
          0.2,
          0.25
         ],
         "xaxis": "x",
         "y": [
          0.3,
          0.2857142857142857,
          0.2857142857142857,
          0.2857142857142857,
          0.2857142857142857,
          0.375,
          0.2857142857142857,
          0.2857142857142857,
          0.25,
          0.25,
          0.2857142857142857,
          0.25,
          0.25,
          0.25,
          0.25,
          0.35714285714285715,
          0.25,
          0.2857142857142857,
          0.3125,
          0.25
         ],
         "yaxis": "y"
        },
        {
         "customdata": [
          [
           "Group"
          ],
          [
           "Group"
          ],
          [
           "Group"
          ],
          [
           "Class"
          ],
          [
           "Class"
          ],
          [
           "Group"
          ],
          [
           "Group"
          ],
          [
           "Class"
          ],
          [
           "Group"
          ],
          [
           "Class"
          ],
          [
           "Group"
          ],
          [
           "Class"
          ],
          [
           "Group"
          ],
          [
           "Group"
          ],
          [
           "Group"
          ]
         ],
         "hovertemplate": "<b>%{hovertext}</b><br><br>section=Transportation and storage<br>dependency=%{x}<br>pressure=%{y}<br>level=%{customdata[0]}<extra></extra>",
         "hovertext": [
          "Sea and coastal water transport",
          "Warehousing and storage",
          "Transport via railways",
          "Service activities incidental to water transportation",
          "Service activities incidental to air transportation",
          "Postal activities",
          "Transport via pipeline",
          "Other transportation support activities",
          "Passenger air transport",
          "Cargo handling",
          "Courier activities",
          "Service activities incidental to land transportation",
          "Inland water transport",
          "Other land transport",
          "Freight air transport"
         ],
         "legendgroup": "Transportation and storage",
         "marker": {
          "color": "#FF97FF",
          "symbol": "circle"
         },
         "mode": "markers",
         "name": "Transportation and storage",
         "orientation": "v",
         "showlegend": true,
         "type": "scatter",
         "x": [
          0.44642857142857145,
          0.1,
          0.3269230769230769,
          0.22727272727272727,
          0.06818181818181818,
          0.1875,
          0.3333333333333333,
          0.06818181818181818,
          0.2692307692307692,
          0.06818181818181818,
          0.1875,
          0.06818181818181818,
          0.48214285714285715,
          0.3269230769230769,
          0.1875
         ],
         "xaxis": "x",
         "y": [
          0.5833333333333334,
          0.1875,
          0.4722222222222222,
          0.275,
          0.19444444444444445,
          0.1875,
          0.375,
          0.25,
          0.5,
          0.22727272727272727,
          0.25,
          0.25,
          0.5277777777777778,
          0.3333333333333333,
          0.4772727272727273
         ],
         "yaxis": "y"
        },
        {
         "customdata": [
          [
           "Group"
          ],
          [
           "Group"
          ],
          [
           "Group"
          ],
          [
           "Group"
          ],
          [
           "Group"
          ],
          [
           "Group"
          ]
         ],
         "hovertemplate": "<b>%{hovertext}</b><br><br>section=Accommodation and food service activities<br>dependency=%{x}<br>pressure=%{y}<br>level=%{customdata[0]}<extra></extra>",
         "hovertext": [
          "Beverage serving activities",
          "Camping grounds, recreational vehicle parks and trailer parks",
          "Event catering and other food service activities",
          "Other accommodation",
          "Restaurants and mobile food service activities",
          "Short term accommodation activities"
         ],
         "legendgroup": "Accommodation and food service activities",
         "marker": {
          "color": "#FECB52",
          "symbol": "circle"
         },
         "mode": "markers",
         "name": "Accommodation and food service activities",
         "orientation": "v",
         "showlegend": true,
         "type": "scatter",
         "x": [
          0.42857142857142855,
          0.6176470588235294,
          0.4107142857142857,
          0.35,
          0.4642857142857143,
          0.4305555555555556
         ],
         "xaxis": "x",
         "y": [
          0.2777777777777778,
          0.3055555555555556,
          0.2777777777777778,
          0.3125,
          0.2777777777777778,
          0.3055555555555556
         ],
         "yaxis": "y"
        },
        {
         "customdata": [
          [
           "Group"
          ],
          [
           "Group"
          ],
          [
           "Group"
          ],
          [
           "Group"
          ],
          [
           "Group"
          ],
          [
           "Group"
          ],
          [
           "Group"
          ],
          [
           "Group"
          ],
          [
           "Group"
          ],
          [
           "Group"
          ],
          [
           "Group"
          ],
          [
           "Group"
          ],
          [
           "Group"
          ]
         ],
         "hovertemplate": "<b>%{hovertext}</b><br><br>section=Information and communication<br>dependency=%{x}<br>pressure=%{y}<br>level=%{customdata[0]}<extra></extra>",
         "hovertext": [
          "Satellite telecommunications activities",
          "Wireless telecommunications activities",
          "Wired telecommunications activities",
          "Television programming and broadcasting activities",
          "Sound recording and music publishing activities",
          "Software publishing",
          "Other telecommunications activities",
          "Publishing of books, periodicals and other publishing activities",
          "Other information service activities",
          "Motion picture, video and television programme activities",
          "Data processing, hosting and related activities; web portals",
          "Computer programming, consultancy and related activities",
          "Radio broadcasting"
         ],
         "legendgroup": "Information and communication",
         "marker": {
          "color": "#636efa",
          "symbol": "circle"
         },
         "mode": "markers",
         "name": "Information and communication",
         "orientation": "v",
         "showlegend": true,
         "type": "scatter",
         "x": [
          0.25,
          0.15625,
          0.19444444444444445,
          0.05555555555555555,
          0.125,
          0.027777777777777776,
          0.05555555555555555,
          0.25,
          0.03125,
          0.22727272727272727,
          0.05,
          0.027777777777777776,
          0.125
         ],
         "xaxis": "x",
         "y": [
          0.14285714285714285,
          0.10714285714285714,
          0.16666666666666666,
          0.125,
          0.25,
          0.21428571428571427,
          0.15625,
          0.25,
          0.20833333333333334,
          0.1111111111111111,
          0.21428571428571427,
          0.25,
          0.16666666666666666
         ],
         "yaxis": "y"
        },
        {
         "customdata": [
          [
           "Group"
          ],
          [
           "Group"
          ],
          [
           "Group"
          ],
          [
           "Group"
          ],
          [
           "Group"
          ],
          [
           "Group"
          ],
          [
           "Group"
          ],
          [
           "Group"
          ],
          [
           "Group"
          ],
          [
           "Group"
          ]
         ],
         "hovertemplate": "<b>%{hovertext}</b><br><br>section=Financial and insurance activities<br>dependency=%{x}<br>pressure=%{y}<br>level=%{customdata[0]}<extra></extra>",
         "hovertext": [
          "Reinsurance",
          "Pension funding",
          "Other financial service activities, except insurance and pension funding activities",
          "Monetary intermediation",
          "Activities of holding companies",
          "Fund management activities",
          "Activities auxiliary to insurance and pension funding",
          "Activities auxiliary to financial service activities, except insurance and pension funding",
          "Trusts, funds and similar financial entities",
          "Insurance"
         ],
         "legendgroup": "Financial and insurance activities",
         "marker": {
          "color": "#EF553B",
          "symbol": "circle"
         },
         "mode": "markers",
         "name": "Financial and insurance activities",
         "orientation": "v",
         "showlegend": true,
         "type": "scatter",
         "x": [
          0.03571428571428571,
          0.03571428571428571,
          0.03571428571428571,
          0.03571428571428571,
          0.03571428571428571,
          0.03571428571428571,
          0.03571428571428571,
          0.03571428571428571,
          0.03571428571428571,
          0.03571428571428571
         ],
         "xaxis": "x",
         "y": [
          0.14285714285714285,
          0.14285714285714285,
          0.14285714285714285,
          0.14285714285714285,
          0.17857142857142858,
          0.10714285714285714,
          0.10714285714285714,
          0.10714285714285714,
          0.14285714285714285,
          0.14285714285714285
         ],
         "yaxis": "y"
        },
        {
         "customdata": [
          [
           "Group"
          ],
          [
           "Group"
          ]
         ],
         "hovertemplate": "<b>%{hovertext}</b><br><br>section=Real estate activities<br>dependency=%{x}<br>pressure=%{y}<br>level=%{customdata[0]}<extra></extra>",
         "hovertext": [
          "Real estate activities with own or leased property",
          "Real estate activities on a fee or contract basis"
         ],
         "legendgroup": "Real estate activities",
         "marker": {
          "color": "#00cc96",
          "symbol": "circle"
         },
         "mode": "markers",
         "name": "Real estate activities",
         "orientation": "v",
         "showlegend": true,
         "type": "scatter",
         "x": [
          0.18181818181818182,
          0.18181818181818182
         ],
         "xaxis": "x",
         "y": [
          0.14285714285714285,
          0.14285714285714285
         ],
         "yaxis": "y"
        },
        {
         "customdata": [
          [
           "Group"
          ],
          [
           "Class"
          ],
          [
           "Group"
          ],
          [
           "Group"
          ],
          [
           "Group"
          ],
          [
           "Group"
          ],
          [
           "Group"
          ],
          [
           "Group"
          ],
          [
           "Group"
          ],
          [
           "Class"
          ],
          [
           "Group"
          ],
          [
           "Group"
          ],
          [
           "Group"
          ],
          [
           "Group"
          ],
          [
           "Group"
          ],
          [
           "Group"
          ],
          [
           "Group"
          ],
          [
           "Group"
          ],
          [
           "Group"
          ],
          [
           "Group"
          ]
         ],
         "hovertemplate": "<b>%{hovertext}</b><br><br>section=Administrative and support service activities<br>dependency=%{x}<br>pressure=%{y}<br>level=%{customdata[0]}<extra></extra>",
         "hovertext": [
          "Other reservation service and related activities",
          "Travel agency activities",
          "Temporary employment agency activities",
          "Security systems service activities",
          "Renting and leasing of personal and household goods",
          "Renting and leasing of other machinery, equipment and tangible goods",
          "Renting and leasing of motor vehicles",
          "Private security activities",
          "Other human resources provision",
          "Tour operator activities",
          "Office administrative and support activities",
          "Leasing of intellectual property and similar products, except copyrighted works",
          "Landscape care and maintenance service activities",
          "Investigation activities",
          "Combined facilities support activities",
          "Cleaning activities",
          "Business support service activities n.e.c.",
          "Activities of employment placement agencies",
          "Activities of call centres",
          "Organization of conventions and trade shows"
         ],
         "legendgroup": "Administrative and support service activities",
         "marker": {
          "color": "#ab63fa",
          "symbol": "circle"
         },
         "mode": "markers",
         "name": "Administrative and support service activities",
         "orientation": "v",
         "showlegend": true,
         "type": "scatter",
         "x": [
          0.31666666666666665,
          0.390625,
          0.03571428571428571,
          0.03571428571428571,
          0.225,
          0.375,
          0.35,
          0.027777777777777776,
          0.03125,
          0.4583333333333333,
          0.03125,
          0.08333333333333333,
          0.5833333333333334,
          0.027777777777777776,
          0.03125,
          0.1111111111111111,
          0.03125,
          0.03125,
          0.03125,
          0.30357142857142855
         ],
         "xaxis": "x",
         "y": [
          0.2857142857142857,
          0.21428571428571427,
          0.10714285714285714,
          0.10714285714285714,
          0.16666666666666666,
          0.2,
          0.1875,
          0.10714285714285714,
          0.10714285714285714,
          0.3,
          0.10714285714285714,
          0.10714285714285714,
          0.275,
          0.10714285714285714,
          0.09375,
          0.21428571428571427,
          0.10714285714285714,
          0.10714285714285714,
          0.10714285714285714,
          0.10714285714285714
         ],
         "yaxis": "y"
        },
        {
         "customdata": [
          [
           "Group"
          ],
          [
           "Group"
          ],
          [
           "Group"
          ]
         ],
         "hovertemplate": "<b>%{hovertext}</b><br><br>section=Public administration and defence; compulsory social security<br>dependency=%{x}<br>pressure=%{y}<br>level=%{customdata[0]}<extra></extra>",
         "hovertext": [
          "Provision of services to the community as a whole",
          "Administration of the State and the economic and social policy of the community",
          "Compulsory social security activities"
         ],
         "legendgroup": "Public administration and defence; compulsory social security",
         "marker": {
          "color": "#FFA15A",
          "symbol": "circle"
         },
         "mode": "markers",
         "name": "Public administration and defence; compulsory social security",
         "orientation": "v",
         "showlegend": true,
         "type": "scatter",
         "x": [
          0.08333333333333333,
          0.08333333333333333,
          0.08333333333333333
         ],
         "xaxis": "x",
         "y": [
          0.35714285714285715,
          0.35714285714285715,
          0.35714285714285715
         ],
         "yaxis": "y"
        },
        {
         "customdata": [
          [
           "Group"
          ],
          [
           "Group"
          ],
          [
           "Group"
          ],
          [
           "Group"
          ],
          [
           "Group"
          ]
         ],
         "hovertemplate": "<b>%{hovertext}</b><br><br>section=Education<br>dependency=%{x}<br>pressure=%{y}<br>level=%{customdata[0]}<extra></extra>",
         "hovertext": [
          "Educational support activities",
          "Higher education",
          "Other education",
          "Pre-primary and primary education",
          "Secondary education"
         ],
         "legendgroup": "Education",
         "marker": {
          "color": "#19d3f3",
          "symbol": "circle"
         },
         "mode": "markers",
         "name": "Education",
         "orientation": "v",
         "showlegend": true,
         "type": "scatter",
         "x": [
          0.28125,
          0.359375,
          0.3382352941176471,
          0.359375,
          0.359375
         ],
         "xaxis": "x",
         "y": [
          0.15625,
          0.25,
          0.25,
          0.25,
          0.25
         ],
         "yaxis": "y"
        },
        {
         "customdata": [
          [
           "Group"
          ],
          [
           "Group"
          ],
          [
           "Group"
          ],
          [
           "Group"
          ],
          [
           "Group"
          ],
          [
           "Group"
          ],
          [
           "Group"
          ],
          [
           "Group"
          ],
          [
           "Group"
          ]
         ],
         "hovertemplate": "<b>%{hovertext}</b><br><br>section=Human health and social work activities<br>dependency=%{x}<br>pressure=%{y}<br>level=%{customdata[0]}<extra></extra>",
         "hovertext": [
          "Social work activities without accommodation for the elderly and disabled",
          "Residential nursing care facilities",
          "Residential care activities for the elderly and disabled",
          "Residential care activities for mental retardation, mental health and substance abuse",
          "Other human health activities",
          "Other residential care activities",
          "Medical and dental practice activities",
          "Hospital activities",
          "Other social work activities without accommodation"
         ],
         "legendgroup": "Human health and social work activities",
         "marker": {
          "color": "#FF6692",
          "symbol": "circle"
         },
         "mode": "markers",
         "name": "Human health and social work activities",
         "orientation": "v",
         "showlegend": true,
         "type": "scatter",
         "x": [
          0.23214285714285715,
          0.38333333333333336,
          0.38333333333333336,
          0.38333333333333336,
          0.421875,
          0.38333333333333336,
          0.4,
          0.45,
          0.30357142857142855
         ],
         "xaxis": "x",
         "y": [
          0.25,
          0.25,
          0.25,
          0.25,
          0.25,
          0.25,
          0.25,
          0.25,
          0.25
         ],
         "yaxis": "y"
        },
        {
         "customdata": [
          [
           "Group"
          ],
          [
           "Group"
          ],
          [
           "Group"
          ],
          [
           "Group"
          ],
          [
           "Group"
          ]
         ],
         "hovertemplate": "<b>%{hovertext}</b><br><br>section=Arts, entertainment and recreation<br>dependency=%{x}<br>pressure=%{y}<br>level=%{customdata[0]}<extra></extra>",
         "hovertext": [
          "Creative, arts and entertainment activities",
          "Gambling and betting activities",
          "Libraries, archives, museums and other cultural activities",
          "Other amusement and recreation activities",
          "Sports activities"
         ],
         "legendgroup": "Arts, entertainment and recreation",
         "marker": {
          "color": "#B6E880",
          "symbol": "circle"
         },
         "mode": "markers",
         "name": "Arts, entertainment and recreation",
         "orientation": "v",
         "showlegend": true,
         "type": "scatter",
         "x": [
          0.15625,
          0.022727272727272728,
          0.2647058823529412,
          0.3125,
          0.325
         ],
         "xaxis": "x",
         "y": [
          0.15,
          0.14285714285714285,
          0.09090909090909091,
          0.18181818181818182,
          0.25
         ],
         "yaxis": "y"
        },
        {
         "customdata": [
          [
           "Group"
          ],
          [
           "Group"
          ],
          [
           "Group"
          ],
          [
           "Group"
          ],
          [
           "Group"
          ],
          [
           "Group"
          ]
         ],
         "hovertemplate": "<b>%{hovertext}</b><br><br>section=Other service activities<br>dependency=%{x}<br>pressure=%{y}<br>level=%{customdata[0]}<extra></extra>",
         "hovertext": [
          "Repair of personal and household goods",
          "Repair of computers and communication equipment",
          "Other personal service activities",
          "Activities of business, employers and professional membership organizations",
          "Activities of other membership organizations",
          "Activities of trade unions"
         ],
         "legendgroup": "Other service activities",
         "marker": {
          "color": "#FF97FF",
          "symbol": "circle"
         },
         "mode": "markers",
         "name": "Other service activities",
         "orientation": "v",
         "showlegend": true,
         "type": "scatter",
         "x": [
          0.2,
          0.2222222222222222,
          0.03125,
          0.027777777777777776,
          0.027777777777777776,
          0.027777777777777776
         ],
         "xaxis": "x",
         "y": [
          0.375,
          0.2916666666666667,
          0.2916666666666667,
          0.2916666666666667,
          0.25,
          0.2916666666666667
         ],
         "yaxis": "y"
        },
        {
         "customdata": [
          [
           "Group"
          ],
          [
           "Group"
          ],
          [
           "Group"
          ]
         ],
         "hovertemplate": "<b>%{hovertext}</b><br><br>section=Household activities<br>dependency=%{x}<br>pressure=%{y}<br>level=%{customdata[0]}<extra></extra>",
         "hovertext": [
          "Undifferentiated service-producing activities of private households for own use",
          "Activities of households as employers of domestic personnel",
          "Undifferentiated goods-producing activities of private households for own use"
         ],
         "legendgroup": "Household activities",
         "marker": {
          "color": "#FECB52",
          "symbol": "circle"
         },
         "mode": "markers",
         "name": "Household activities",
         "orientation": "v",
         "showlegend": true,
         "type": "scatter",
         "x": [
          0.08333333333333333,
          0.09375,
          0.20454545454545456
         ],
         "xaxis": "x",
         "y": [
          0.25,
          0.2,
          0.3333333333333333
         ],
         "yaxis": "y"
        },
        {
         "customdata": [
          [
           "Group"
          ]
         ],
         "hovertemplate": "<b>%{hovertext}</b><br><br>section=Activities of extraterritorial organizations and bodies<br>dependency=%{x}<br>pressure=%{y}<br>level=%{customdata[0]}<extra></extra>",
         "hovertext": [
          "Activities of extraterritorial organizations and bodies"
         ],
         "legendgroup": "Activities of extraterritorial organizations and bodies",
         "marker": {
          "color": "#636efa",
          "symbol": "circle"
         },
         "mode": "markers",
         "name": "Activities of extraterritorial organizations and bodies",
         "orientation": "v",
         "showlegend": true,
         "type": "scatter",
         "x": [
          0.027777777777777776
         ],
         "xaxis": "x",
         "y": [
          0
         ],
         "yaxis": "y"
        },
        {
         "line": {
          "color": "white",
          "dash": "dash",
          "width": 2
         },
         "mode": "lines",
         "name": "OLS",
         "type": "scatter",
         "x": [
          0.7058823529411765,
          0.4107142857142857,
          0.45,
          0.325,
          0.7777777777777778,
          0.4868421052631579,
          0.5375,
          0.55,
          0.5,
          0.5375,
          0.5625,
          0.5952380952380952,
          0.5,
          0.7976190476190477,
          0.5,
          0.5384615384615384,
          0.7894736842105263,
          0.6842105263157895,
          0.7631578947368421,
          0.75,
          0.7619047619047619,
          0.7763157894736842,
          0.7236842105263158,
          0.7361111111111112,
          0.7763157894736842,
          0.7894736842105263,
          0.48214285714285715,
          0.7368421052631579,
          0.48333333333333334,
          0.1875,
          0.3076923076923077,
          0.5166666666666667,
          0.5,
          0.3269230769230769,
          0.5,
          0.5,
          0.3076923076923077,
          0.48333333333333334,
          0.3125,
          0.2708333333333333,
          0.2692307692307692,
          0.25,
          0.38461538461538464,
          0.2727272727272727,
          0.3125,
          0.23214285714285715,
          0.36538461538461536,
          0.23214285714285715,
          0.30357142857142855,
          0.5,
          0.25,
          0.28846153846153844,
          0.25,
          0.3958333333333333,
          0.23214285714285715,
          0.3076923076923077,
          0.36538461538461536,
          0,
          0.2857142857142857,
          0.3125,
          0.28846153846153844,
          0.31666666666666665,
          0.2692307692307692,
          0.32142857142857145,
          0.22916666666666666,
          0,
          0.4090909090909091,
          0,
          0.4090909090909091,
          0,
          0.45,
          0.34375,
          0.3076923076923077,
          0.2857142857142857,
          0.5,
          0.26785714285714285,
          0,
          0.3076923076923077,
          0.2708333333333333,
          0.25,
          0.30357142857142855,
          0.36538461538461536,
          0.25,
          0.23214285714285715,
          0.25,
          0.2727272727272727,
          0.23214285714285715,
          0.3076923076923077,
          0.38636363636363635,
          0.3269230769230769,
          0.26785714285714285,
          0.26785714285714285,
          0.31666666666666665,
          0.25,
          0.5,
          0.4722222222222222,
          0.275,
          0.30357142857142855,
          0.2857142857142857,
          0.2857142857142857,
          0.35714285714285715,
          0.3333333333333333,
          0.32142857142857145,
          0.25,
          0.2692307692307692,
          0.34615384615384615,
          0.25,
          0.5,
          0.26785714285714285,
          0.25,
          0.25,
          0.3541666666666667,
          0.35714285714285715,
          0.25,
          0.3,
          0.26785714285714285,
          0.3333333333333333,
          0.26785714285714285,
          0.25,
          0.21153846153846154,
          0.5,
          0.53125,
          0.375,
          0.2,
          0.3333333333333333,
          0,
          0.6388888888888888,
          0.29545454545454547,
          0.4090909090909091,
          0.25,
          0.14583333333333334,
          0.19230769230769232,
          0.4090909090909091,
          0.35714285714285715,
          0.3333333333333333,
          0.26785714285714285,
          0.4,
          0.3076923076923077,
          0.30357142857142855,
          0.3333333333333333,
          0.40384615384615385,
          0.35,
          0.4423076923076923,
          0.34375,
          0.4423076923076923,
          0.1590909090909091,
          0.21428571428571427,
          0.16666666666666666,
          0.16666666666666666,
          0.2222222222222222,
          0.25,
          0.125,
          0.16666666666666666,
          0.125,
          0.4583333333333333,
          0.16666666666666666,
          0.25,
          0.25,
          0.275,
          0.25,
          0.22727272727272727,
          0.25,
          0.2222222222222222,
          0.2,
          0.25,
          0.44642857142857145,
          0.1,
          0.3269230769230769,
          0.22727272727272727,
          0.06818181818181818,
          0.1875,
          0.3333333333333333,
          0.06818181818181818,
          0.2692307692307692,
          0.06818181818181818,
          0.1875,
          0.06818181818181818,
          0.48214285714285715,
          0.3269230769230769,
          0.1875,
          0.42857142857142855,
          0.6176470588235294,
          0.4107142857142857,
          0.35,
          0.4642857142857143,
          0.4305555555555556,
          0.25,
          0.15625,
          0.19444444444444445,
          0.05555555555555555,
          0.125,
          0.027777777777777776,
          0.05555555555555555,
          0.25,
          0.03125,
          0.22727272727272727,
          0.05,
          0.027777777777777776,
          0.125,
          0.03571428571428571,
          0.03571428571428571,
          0.03571428571428571,
          0.03571428571428571,
          0.03571428571428571,
          0.03571428571428571,
          0.03571428571428571,
          0.03571428571428571,
          0.03571428571428571,
          0.03571428571428571,
          0.18181818181818182,
          0.18181818181818182,
          0.05555555555555555,
          0.28846153846153844,
          0.25,
          0.2,
          0.2222222222222222,
          0.2727272727272727,
          0.14583333333333334,
          0.3125,
          0.027777777777777776,
          0.05,
          0.1388888888888889,
          0.027777777777777776,
          0.05555555555555555,
          0.08333333333333333,
          0.31666666666666665,
          0.390625,
          0.03571428571428571,
          0.03571428571428571,
          0.225,
          0.375,
          0.35,
          0.027777777777777776,
          0.03125,
          0.4583333333333333,
          0.03125,
          0.08333333333333333,
          0.5833333333333334,
          0.027777777777777776,
          0.03125,
          0.1111111111111111,
          0.03125,
          0.03125,
          0.03125,
          0.30357142857142855,
          0.08333333333333333,
          0.08333333333333333,
          0.08333333333333333,
          0.28125,
          0.359375,
          0.3382352941176471,
          0.359375,
          0.359375,
          0.23214285714285715,
          0.38333333333333336,
          0.38333333333333336,
          0.38333333333333336,
          0.421875,
          0.38333333333333336,
          0.4,
          0.45,
          0.30357142857142855,
          0.15625,
          0.022727272727272728,
          0.2647058823529412,
          0.3125,
          0.325,
          0.2,
          0.2222222222222222,
          0.03125,
          0.027777777777777776,
          0.027777777777777776,
          0.027777777777777776,
          0.08333333333333333,
          0.09375,
          0.20454545454545456,
          0.027777777777777776
         ],
         "y": [
          0.6072677709613776,
          0.4300163886023072,
          0.4536078537276781,
          0.3785441010560433,
          0.6504416940666315,
          0.4757319071466863,
          0.5061524805978224,
          0.5136588558649859,
          0.483633354796332,
          0.5061524805978224,
          0.5211652311321494,
          0.5408247854032919,
          0.483633354796332,
          0.6623565754430816,
          0.483633354796332,
          0.5067298940799119,
          0.6574652030885388,
          0.5942536218913728,
          0.6416623077892474,
          0.6337608601396016,
          0.6409097889654716,
          0.6495637554388931,
          0.6179579648403101,
          0.6254204431760866,
          0.6495637554388931,
          0.6574652030885388,
          0.47290996155752707,
          0.6258594124899558,
          0.47362485444011404,
          0.29597397311724505,
          0.36815065837843236,
          0.49364185515255,
          0.483633354796332,
          0.3796989280202223,
          0.483633354796332,
          0.483633354796332,
          0.36815065837843236,
          0.47362485444011404,
          0.37103772578887984,
          0.34601647489833487,
          0.3450541190948524,
          0.33350584945306244,
          0.41434373694559223,
          0.34715380448426875,
          0.37103772578887984,
          0.3227824562142575,
          0.4027954673038022,
          0.3227824562142575,
          0.36567602916947733,
          0.483633354796332,
          0.33350584945306244,
          0.35660238873664235,
          0.33350584945306244,
          0.42108022756996966,
          0.3227824562142575,
          0.36815065837843236,
          0.4027954673038022,
          0.18337834410979287,
          0.3549526359306724,
          0.37103772578887984,
          0.35660238873664235,
          0.3735398508779343,
          0.3450541190948524,
          0.37639942240828234,
          0.32099522400778996,
          0.18337834410979287,
          0.42904153467150674,
          0.18337834410979287,
          0.42904153467150674,
          0.18337834410979287,
          0.4536078537276781,
          0.38980366395678856,
          0.36815065837843236,
          0.3549526359306724,
          0.483633354796332,
          0.3442292426918674,
          0.18337834410979287,
          0.36815065837843236,
          0.34601647489833487,
          0.33350584945306244,
          0.36567602916947733,
          0.4027954673038022,
          0.33350584945306244,
          0.3227824562142575,
          0.33350584945306244,
          0.34715380448426875,
          0.3227824562142575,
          0.36815065837843236,
          0.4153935796403004,
          0.3796989280202223,
          0.3442292426918674,
          0.3442292426918674,
          0.3735398508779343,
          0.33350584945306244,
          0.483633354796332,
          0.46695252086930206,
          0.34851859998738943,
          0.36567602916947733,
          0.3549526359306724,
          0.3549526359306724,
          0.3978462088858923,
          0.3835483512341523,
          0.37639942240828234,
          0.33350584945306244,
          0.3450541190948524,
          0.39124719766201227,
          0.33350584945306244,
          0.483633354796332,
          0.3442292426918674,
          0.33350584945306244,
          0.33350584945306244,
          0.3960589766794248,
          0.3978462088858923,
          0.33350584945306244,
          0.36353135052171637,
          0.3442292426918674,
          0.3835483512341523,
          0.3442292426918674,
          0.33350584945306244,
          0.3104093101694825,
          0.483633354796332,
          0.5023992929642407,
          0.40856960212469723,
          0.3034803483844085,
          0.3835483512341523,
          0.18337834410979287,
          0.5670375244314818,
          0.3608017595154751,
          0.42904153467150674,
          0.33350584945306244,
          0.27095272222670014,
          0.2988610405276926,
          0.42904153467150674,
          0.3978462088858923,
          0.3835483512341523,
          0.3442292426918674,
          0.4235823526590242,
          0.36815065837843236,
          0.36567602916947733,
          0.3835483512341523,
          0.4258920065873822,
          0.39355685159037024,
          0.4489885458709621,
          0.38980366395678856,
          0.4489885458709621,
          0.27891402932823717,
          0.3120590629754525,
          0.28346334767197257,
          0.28346334767197257,
          0.3168250155260325,
          0.33350584945306244,
          0.25844209678142765,
          0.28346334767197257,
          0.25844209678142765,
          0.45861210390578705,
          0.28346334767197257,
          0.33350584945306244,
          0.33350584945306244,
          0.34851859998738943,
          0.33350584945306244,
          0.3198578944218561,
          0.33350584945306244,
          0.3168250155260325,
          0.3034803483844085,
          0.33350584945306244,
          0.4514631750799171,
          0.2434293462471007,
          0.3796989280202223,
          0.3198578944218561,
          0.22432220920341184,
          0.29597397311724505,
          0.3835483512341523,
          0.22432220920341184,
          0.3450541190948524,
          0.22432220920341184,
          0.29597397311724505,
          0.22432220920341184,
          0.47290996155752707,
          0.3796989280202223,
          0.29597397311724505,
          0.4407397818411121,
          0.5542815926049295,
          0.4300163886023072,
          0.39355685159037024,
          0.46218656831872207,
          0.44193126997875715,
          0.33350584945306244,
          0.2772080349493363,
          0.3001441815990025,
          0.21674001196385279,
          0.25844209678142765,
          0.20005917803682283,
          0.21674001196385279,
          0.33350584945306244,
          0.20214428227770156,
          0.3198578944218561,
          0.2134038451784468,
          0.20005917803682283,
          0.25844209678142765,
          0.20482513058740281,
          0.20482513058740281,
          0.20482513058740281,
          0.20482513058740281,
          0.20482513058740281,
          0.20482513058740281,
          0.20482513058740281,
          0.20482513058740281,
          0.20482513058740281,
          0.20482513058740281,
          0.29256198435944347,
          0.29256198435944347,
          0.21674001196385279,
          0.35660238873664235,
          0.33350584945306244,
          0.3034803483844085,
          0.3168250155260325,
          0.34715380448426875,
          0.27095272222670014,
          0.37103772578887984,
          0.20005917803682283,
          0.2134038451784468,
          0.26678251374494266,
          0.20005917803682283,
          0.21674001196385279,
          0.23342084589088272,
          0.3735398508779343,
          0.4179525712086516,
          0.20482513058740281,
          0.20482513058740281,
          0.31849309891873545,
          0.40856960212469723,
          0.39355685159037024,
          0.20005917803682283,
          0.20214428227770156,
          0.45861210390578705,
          0.20214428227770156,
          0.23342084589088272,
          0.5336758565774219,
          0.20005917803682283,
          0.20214428227770156,
          0.25010167981791265,
          0.20214428227770156,
          0.20214428227770156,
          0.20214428227770156,
          0.36567602916947733,
          0.23342084589088272,
          0.23342084589088272,
          0.23342084589088272,
          0.3522717876209711,
          0.39918663304074287,
          0.38649202780951053,
          0.39918663304074287,
          0.39918663304074287,
          0.3227824562142575,
          0.4135738523028062,
          0.4135738523028062,
          0.4135738523028062,
          0.43671850937656026,
          0.4135738523028062,
          0.4235823526590242,
          0.4536078537276781,
          0.36567602916947733,
          0.2772080349493363,
          0.1970262991409992,
          0.34233687917913713,
          0.37103772578887984,
          0.3785441010560433,
          0.3034803483844085,
          0.3168250155260325,
          0.20214428227770156,
          0.20005917803682283,
          0.20005917803682283,
          0.20005917803682283,
          0.23342084589088272,
          0.23967615861351896,
          0.3062099393906498,
          0.20005917803682283
         ]
        }
       ],
       "layout": {
        "autosize": false,
        "height": 600,
        "legend": {
         "font": {
          "size": 10
         },
         "title": {
          "text": "Section"
         },
         "tracegroupgap": 0
        },
        "margin": {
         "t": 60
        },
        "template": {
         "data": {
          "bar": [
           {
            "error_x": {
             "color": "#f2f5fa"
            },
            "error_y": {
             "color": "#f2f5fa"
            },
            "marker": {
             "line": {
              "color": "rgb(17,17,17)",
              "width": 0.5
             },
             "pattern": {
              "fillmode": "overlay",
              "size": 10,
              "solidity": 0.2
             }
            },
            "type": "bar"
           }
          ],
          "barpolar": [
           {
            "marker": {
             "line": {
              "color": "rgb(17,17,17)",
              "width": 0.5
             },
             "pattern": {
              "fillmode": "overlay",
              "size": 10,
              "solidity": 0.2
             }
            },
            "type": "barpolar"
           }
          ],
          "carpet": [
           {
            "aaxis": {
             "endlinecolor": "#A2B1C6",
             "gridcolor": "#506784",
             "linecolor": "#506784",
             "minorgridcolor": "#506784",
             "startlinecolor": "#A2B1C6"
            },
            "baxis": {
             "endlinecolor": "#A2B1C6",
             "gridcolor": "#506784",
             "linecolor": "#506784",
             "minorgridcolor": "#506784",
             "startlinecolor": "#A2B1C6"
            },
            "type": "carpet"
           }
          ],
          "choropleth": [
           {
            "colorbar": {
             "outlinewidth": 0,
             "ticks": ""
            },
            "type": "choropleth"
           }
          ],
          "contour": [
           {
            "colorbar": {
             "outlinewidth": 0,
             "ticks": ""
            },
            "colorscale": [
             [
              0,
              "#0d0887"
             ],
             [
              0.1111111111111111,
              "#46039f"
             ],
             [
              0.2222222222222222,
              "#7201a8"
             ],
             [
              0.3333333333333333,
              "#9c179e"
             ],
             [
              0.4444444444444444,
              "#bd3786"
             ],
             [
              0.5555555555555556,
              "#d8576b"
             ],
             [
              0.6666666666666666,
              "#ed7953"
             ],
             [
              0.7777777777777778,
              "#fb9f3a"
             ],
             [
              0.8888888888888888,
              "#fdca26"
             ],
             [
              1,
              "#f0f921"
             ]
            ],
            "type": "contour"
           }
          ],
          "contourcarpet": [
           {
            "colorbar": {
             "outlinewidth": 0,
             "ticks": ""
            },
            "type": "contourcarpet"
           }
          ],
          "heatmap": [
           {
            "colorbar": {
             "outlinewidth": 0,
             "ticks": ""
            },
            "colorscale": [
             [
              0,
              "#0d0887"
             ],
             [
              0.1111111111111111,
              "#46039f"
             ],
             [
              0.2222222222222222,
              "#7201a8"
             ],
             [
              0.3333333333333333,
              "#9c179e"
             ],
             [
              0.4444444444444444,
              "#bd3786"
             ],
             [
              0.5555555555555556,
              "#d8576b"
             ],
             [
              0.6666666666666666,
              "#ed7953"
             ],
             [
              0.7777777777777778,
              "#fb9f3a"
             ],
             [
              0.8888888888888888,
              "#fdca26"
             ],
             [
              1,
              "#f0f921"
             ]
            ],
            "type": "heatmap"
           }
          ],
          "heatmapgl": [
           {
            "colorbar": {
             "outlinewidth": 0,
             "ticks": ""
            },
            "colorscale": [
             [
              0,
              "#0d0887"
             ],
             [
              0.1111111111111111,
              "#46039f"
             ],
             [
              0.2222222222222222,
              "#7201a8"
             ],
             [
              0.3333333333333333,
              "#9c179e"
             ],
             [
              0.4444444444444444,
              "#bd3786"
             ],
             [
              0.5555555555555556,
              "#d8576b"
             ],
             [
              0.6666666666666666,
              "#ed7953"
             ],
             [
              0.7777777777777778,
              "#fb9f3a"
             ],
             [
              0.8888888888888888,
              "#fdca26"
             ],
             [
              1,
              "#f0f921"
             ]
            ],
            "type": "heatmapgl"
           }
          ],
          "histogram": [
           {
            "marker": {
             "pattern": {
              "fillmode": "overlay",
              "size": 10,
              "solidity": 0.2
             }
            },
            "type": "histogram"
           }
          ],
          "histogram2d": [
           {
            "colorbar": {
             "outlinewidth": 0,
             "ticks": ""
            },
            "colorscale": [
             [
              0,
              "#0d0887"
             ],
             [
              0.1111111111111111,
              "#46039f"
             ],
             [
              0.2222222222222222,
              "#7201a8"
             ],
             [
              0.3333333333333333,
              "#9c179e"
             ],
             [
              0.4444444444444444,
              "#bd3786"
             ],
             [
              0.5555555555555556,
              "#d8576b"
             ],
             [
              0.6666666666666666,
              "#ed7953"
             ],
             [
              0.7777777777777778,
              "#fb9f3a"
             ],
             [
              0.8888888888888888,
              "#fdca26"
             ],
             [
              1,
              "#f0f921"
             ]
            ],
            "type": "histogram2d"
           }
          ],
          "histogram2dcontour": [
           {
            "colorbar": {
             "outlinewidth": 0,
             "ticks": ""
            },
            "colorscale": [
             [
              0,
              "#0d0887"
             ],
             [
              0.1111111111111111,
              "#46039f"
             ],
             [
              0.2222222222222222,
              "#7201a8"
             ],
             [
              0.3333333333333333,
              "#9c179e"
             ],
             [
              0.4444444444444444,
              "#bd3786"
             ],
             [
              0.5555555555555556,
              "#d8576b"
             ],
             [
              0.6666666666666666,
              "#ed7953"
             ],
             [
              0.7777777777777778,
              "#fb9f3a"
             ],
             [
              0.8888888888888888,
              "#fdca26"
             ],
             [
              1,
              "#f0f921"
             ]
            ],
            "type": "histogram2dcontour"
           }
          ],
          "mesh3d": [
           {
            "colorbar": {
             "outlinewidth": 0,
             "ticks": ""
            },
            "type": "mesh3d"
           }
          ],
          "parcoords": [
           {
            "line": {
             "colorbar": {
              "outlinewidth": 0,
              "ticks": ""
             }
            },
            "type": "parcoords"
           }
          ],
          "pie": [
           {
            "automargin": true,
            "type": "pie"
           }
          ],
          "scatter": [
           {
            "marker": {
             "line": {
              "color": "#283442"
             }
            },
            "type": "scatter"
           }
          ],
          "scatter3d": [
           {
            "line": {
             "colorbar": {
              "outlinewidth": 0,
              "ticks": ""
             }
            },
            "marker": {
             "colorbar": {
              "outlinewidth": 0,
              "ticks": ""
             }
            },
            "type": "scatter3d"
           }
          ],
          "scattercarpet": [
           {
            "marker": {
             "colorbar": {
              "outlinewidth": 0,
              "ticks": ""
             }
            },
            "type": "scattercarpet"
           }
          ],
          "scattergeo": [
           {
            "marker": {
             "colorbar": {
              "outlinewidth": 0,
              "ticks": ""
             }
            },
            "type": "scattergeo"
           }
          ],
          "scattergl": [
           {
            "marker": {
             "line": {
              "color": "#283442"
             }
            },
            "type": "scattergl"
           }
          ],
          "scattermapbox": [
           {
            "marker": {
             "colorbar": {
              "outlinewidth": 0,
              "ticks": ""
             }
            },
            "type": "scattermapbox"
           }
          ],
          "scatterpolar": [
           {
            "marker": {
             "colorbar": {
              "outlinewidth": 0,
              "ticks": ""
             }
            },
            "type": "scatterpolar"
           }
          ],
          "scatterpolargl": [
           {
            "marker": {
             "colorbar": {
              "outlinewidth": 0,
              "ticks": ""
             }
            },
            "type": "scatterpolargl"
           }
          ],
          "scatterternary": [
           {
            "marker": {
             "colorbar": {
              "outlinewidth": 0,
              "ticks": ""
             }
            },
            "type": "scatterternary"
           }
          ],
          "surface": [
           {
            "colorbar": {
             "outlinewidth": 0,
             "ticks": ""
            },
            "colorscale": [
             [
              0,
              "#0d0887"
             ],
             [
              0.1111111111111111,
              "#46039f"
             ],
             [
              0.2222222222222222,
              "#7201a8"
             ],
             [
              0.3333333333333333,
              "#9c179e"
             ],
             [
              0.4444444444444444,
              "#bd3786"
             ],
             [
              0.5555555555555556,
              "#d8576b"
             ],
             [
              0.6666666666666666,
              "#ed7953"
             ],
             [
              0.7777777777777778,
              "#fb9f3a"
             ],
             [
              0.8888888888888888,
              "#fdca26"
             ],
             [
              1,
              "#f0f921"
             ]
            ],
            "type": "surface"
           }
          ],
          "table": [
           {
            "cells": {
             "fill": {
              "color": "#506784"
             },
             "line": {
              "color": "rgb(17,17,17)"
             }
            },
            "header": {
             "fill": {
              "color": "#2a3f5f"
             },
             "line": {
              "color": "rgb(17,17,17)"
             }
            },
            "type": "table"
           }
          ]
         },
         "layout": {
          "annotationdefaults": {
           "arrowcolor": "#f2f5fa",
           "arrowhead": 0,
           "arrowwidth": 1
          },
          "autotypenumbers": "strict",
          "coloraxis": {
           "colorbar": {
            "outlinewidth": 0,
            "ticks": ""
           }
          },
          "colorscale": {
           "diverging": [
            [
             0,
             "#8e0152"
            ],
            [
             0.1,
             "#c51b7d"
            ],
            [
             0.2,
             "#de77ae"
            ],
            [
             0.3,
             "#f1b6da"
            ],
            [
             0.4,
             "#fde0ef"
            ],
            [
             0.5,
             "#f7f7f7"
            ],
            [
             0.6,
             "#e6f5d0"
            ],
            [
             0.7,
             "#b8e186"
            ],
            [
             0.8,
             "#7fbc41"
            ],
            [
             0.9,
             "#4d9221"
            ],
            [
             1,
             "#276419"
            ]
           ],
           "sequential": [
            [
             0,
             "#0d0887"
            ],
            [
             0.1111111111111111,
             "#46039f"
            ],
            [
             0.2222222222222222,
             "#7201a8"
            ],
            [
             0.3333333333333333,
             "#9c179e"
            ],
            [
             0.4444444444444444,
             "#bd3786"
            ],
            [
             0.5555555555555556,
             "#d8576b"
            ],
            [
             0.6666666666666666,
             "#ed7953"
            ],
            [
             0.7777777777777778,
             "#fb9f3a"
            ],
            [
             0.8888888888888888,
             "#fdca26"
            ],
            [
             1,
             "#f0f921"
            ]
           ],
           "sequentialminus": [
            [
             0,
             "#0d0887"
            ],
            [
             0.1111111111111111,
             "#46039f"
            ],
            [
             0.2222222222222222,
             "#7201a8"
            ],
            [
             0.3333333333333333,
             "#9c179e"
            ],
            [
             0.4444444444444444,
             "#bd3786"
            ],
            [
             0.5555555555555556,
             "#d8576b"
            ],
            [
             0.6666666666666666,
             "#ed7953"
            ],
            [
             0.7777777777777778,
             "#fb9f3a"
            ],
            [
             0.8888888888888888,
             "#fdca26"
            ],
            [
             1,
             "#f0f921"
            ]
           ]
          },
          "colorway": [
           "#636efa",
           "#EF553B",
           "#00cc96",
           "#ab63fa",
           "#FFA15A",
           "#19d3f3",
           "#FF6692",
           "#B6E880",
           "#FF97FF",
           "#FECB52"
          ],
          "font": {
           "color": "#f2f5fa"
          },
          "geo": {
           "bgcolor": "rgb(17,17,17)",
           "lakecolor": "rgb(17,17,17)",
           "landcolor": "rgb(17,17,17)",
           "showlakes": true,
           "showland": true,
           "subunitcolor": "#506784"
          },
          "hoverlabel": {
           "align": "left"
          },
          "hovermode": "closest",
          "mapbox": {
           "style": "dark"
          },
          "paper_bgcolor": "rgb(17,17,17)",
          "plot_bgcolor": "rgb(17,17,17)",
          "polar": {
           "angularaxis": {
            "gridcolor": "#506784",
            "linecolor": "#506784",
            "ticks": ""
           },
           "bgcolor": "rgb(17,17,17)",
           "radialaxis": {
            "gridcolor": "#506784",
            "linecolor": "#506784",
            "ticks": ""
           }
          },
          "scene": {
           "xaxis": {
            "backgroundcolor": "rgb(17,17,17)",
            "gridcolor": "#506784",
            "gridwidth": 2,
            "linecolor": "#506784",
            "showbackground": true,
            "ticks": "",
            "zerolinecolor": "#C8D4E3"
           },
           "yaxis": {
            "backgroundcolor": "rgb(17,17,17)",
            "gridcolor": "#506784",
            "gridwidth": 2,
            "linecolor": "#506784",
            "showbackground": true,
            "ticks": "",
            "zerolinecolor": "#C8D4E3"
           },
           "zaxis": {
            "backgroundcolor": "rgb(17,17,17)",
            "gridcolor": "#506784",
            "gridwidth": 2,
            "linecolor": "#506784",
            "showbackground": true,
            "ticks": "",
            "zerolinecolor": "#C8D4E3"
           }
          },
          "shapedefaults": {
           "line": {
            "color": "#f2f5fa"
           }
          },
          "sliderdefaults": {
           "bgcolor": "#C8D4E3",
           "bordercolor": "rgb(17,17,17)",
           "borderwidth": 1,
           "tickwidth": 0
          },
          "ternary": {
           "aaxis": {
            "gridcolor": "#506784",
            "linecolor": "#506784",
            "ticks": ""
           },
           "baxis": {
            "gridcolor": "#506784",
            "linecolor": "#506784",
            "ticks": ""
           },
           "bgcolor": "rgb(17,17,17)",
           "caxis": {
            "gridcolor": "#506784",
            "linecolor": "#506784",
            "ticks": ""
           }
          },
          "title": {
           "x": 0.05
          },
          "updatemenudefaults": {
           "bgcolor": "#506784",
           "borderwidth": 0
          },
          "xaxis": {
           "automargin": true,
           "gridcolor": "#283442",
           "linecolor": "#506784",
           "ticks": "",
           "title": {
            "standoff": 15
           },
           "zerolinecolor": "#283442",
           "zerolinewidth": 2
          },
          "yaxis": {
           "automargin": true,
           "gridcolor": "#283442",
           "linecolor": "#506784",
           "ticks": "",
           "title": {
            "standoff": 15
           },
           "zerolinecolor": "#283442",
           "zerolinewidth": 2
          }
         }
        },
        "title": {
         "text": "<b>Human Activity: Dependency vs Pressure</b><br>Mean Ratings by ISIC Group/Class used for analysis"
        },
        "width": 800,
        "xaxis": {
         "anchor": "y",
         "domain": [
          0,
          1
         ],
         "fixedrange": true,
         "title": {
          "text": "Mean dependency"
         }
        },
        "yaxis": {
         "anchor": "x",
         "domain": [
          0,
          1
         ],
         "fixedrange": true,
         "title": {
          "text": "Mean pressure"
         }
        }
       }
      }
     },
     "metadata": {},
     "output_type": "display_data"
    }
   ],
   "source": [
    "fig = px.scatter(\n",
    "    group_scores,\n",
    "    x=\"dependency\",\n",
    "    y=\"pressure\",\n",
    "    color=\"section\",\n",
    "    hover_name=\"analysis\",\n",
    "    hover_data=[\"level\"],\n",
    ")\n",
    "\n",
    "\n",
    "fig.add_trace(\n",
    "    go.Scatter(\n",
    "        x=x,\n",
    "        y=line,\n",
    "        mode=\"lines\",\n",
    "        name=\"OLS\",\n",
    "        line=dict(color=\"white\", width=2, dash=\"dash\"),\n",
    "    )\n",
    ")\n",
    "\n",
    "# Axis labels\n",
    "fig.update_xaxes(title_text=\"Mean dependency\")\n",
    "fig.update_yaxes(title_text=\"Mean pressure\")\n",
    "\n",
    "# Lock layout\n",
    "fig.layout.xaxis.fixedrange = True\n",
    "fig.layout.yaxis.fixedrange = True\n",
    "\n",
    "\n",
    "# Add a title\n",
    "fig.update_layout(\n",
    "    title=\"<b>Human Activity: Dependency vs Pressure</b><br>Mean Ratings by ISIC Group/Class used for analysis\"\n",
    ")\n",
    "\n",
    "# Dark theme\n",
    "fig.update_layout(template=\"plotly_dark\")\n",
    "\n",
    "# Reduce font size for legend and set legend title\n",
    "fig.update_layout(legend=dict(font=dict(size=10)), legend_title_text=\"Section\")\n",
    "\n",
    "# Size\n",
    "fig.update_layout(width=800, height=600, autosize=False)\n",
    "\n",
    "# Show without the plotly toolbar\n",
    "fig.show(config={\"displayModeBar\": False})\n",
    "\n",
    "# export to html\n",
    "pio.write_html(fig, \"charts/dependency_pressure.html\", config={\"displayModeBar\": False})"
   ]
  },
  {
   "cell_type": "markdown",
   "metadata": {},
   "source": [
    "## Findings\n",
    "- There is a strong positive correlation between dependencies and pressures, i.e., that the activities which most strongly depend on nature are also most likely to exert pressure on it.\n",
    "- The category of activity with the strongest dependencies and pressures is very clearly \"Agriculture, forestry and fishing\".\n",
    "- Unsurprisingly, \"Mining and quarrying\" and \"Manufacturing\" also score highly on pressures, with weaker (yet often strong) dependencies."
   ]
  },
  {
   "cell_type": "markdown",
   "metadata": {},
   "source": [
    "# Visualising links\n",
    "I wanted to find a way to quickly and easily visualise the various dependencies and pressures related to each category of economic activity. I started off with a traditional network plot, but found myself spending too much time optimising layout.\n",
    "\n",
    "Conceptualising the relationships as flows, from what activities rely on to how they pressure ecosystems, I decided on a Sankey plot."
   ]
  },
  {
   "cell_type": "code",
   "execution_count": null,
   "metadata": {
    "slideshow": {
     "slide_type": "slide"
    }
   },
   "outputs": [
    {
     "data": {
      "application/vnd.plotly.v1+json": {
       "config": {
        "displayModeBar": false,
        "plotlyServerURL": "https://plot.ly"
       },
       "data": [
        {
         "arrangement": "snap",
         "link": {
          "color": "rgba(119, 221, 119, 0.1)",
          "hovercolor": "white",
          "hovertemplate": "Link from node %{source.customdata}<br />to node%{target.customdata}<br />has value %{value}<br />and data %{customdata}<extra></extra>",
          "source": [
           1,
           0,
           0,
           4,
           5,
           0,
           7,
           0,
           0,
           0,
           0,
           12,
           0,
           14,
           0,
           16,
           17,
           18,
           19,
           20,
           21,
           22,
           23,
           24,
           25,
           0,
           27,
           28,
           29,
           1,
           30,
           30,
           30,
           30,
           30,
           12,
           30,
           14,
           16,
           21,
           24,
           30,
           27,
           28,
           29,
           31,
           31,
           4,
           5,
           31,
           31,
           31,
           31,
           31,
           12,
           31,
           14,
           31,
           16,
           31,
           31,
           34,
           19,
           21,
           24,
           31,
           27,
           29,
           1,
           35,
           35,
           35,
           4,
           35,
           7,
           35,
           35,
           35,
           35,
           12,
           35,
           14,
           35,
           16,
           17,
           35,
           35,
           37,
           38,
           18,
           34,
           19,
           20,
           21,
           39,
           22,
           23,
           24,
           25,
           35,
           27,
           28,
           29,
           1,
           40,
           40,
           40,
           4,
           5,
           40,
           7,
           40,
           40,
           40,
           40,
           12,
           40,
           41,
           14,
           40,
           16,
           17,
           42,
           40,
           37,
           38,
           18,
           34,
           19,
           20,
           21,
           39,
           22,
           23,
           24,
           40,
           27,
           28,
           29,
           1,
           43,
           43,
           43,
           4,
           5,
           43,
           43,
           43,
           43,
           43,
           12,
           43,
           14,
           43,
           16,
           17,
           42,
           43,
           37,
           18,
           34,
           19,
           20,
           21,
           39,
           22,
           23,
           24,
           25,
           43,
           27,
           28,
           29,
           1,
           44,
           44,
           44,
           44,
           44,
           44,
           44,
           12,
           44,
           14,
           44,
           16,
           17,
           37,
           38,
           18,
           19,
           21,
           22,
           24,
           44,
           27,
           28,
           29,
           1,
           45,
           4,
           45,
           7,
           45,
           45,
           45,
           45,
           12,
           45,
           41,
           14,
           16,
           17,
           19,
           20,
           21,
           22,
           23,
           24,
           25,
           45,
           27,
           29,
           1,
           46,
           46,
           46,
           5,
           46,
           46,
           46,
           46,
           46,
           12,
           46,
           14,
           16,
           17,
           46,
           38,
           19,
           21,
           22,
           24,
           46,
           27,
           28,
           29,
           47,
           47,
           47,
           47,
           47,
           12,
           47,
           14,
           16,
           21,
           24,
           47,
           27,
           29,
           1,
           48,
           4,
           48,
           7,
           48,
           48,
           48,
           12,
           48,
           14,
           48,
           16,
           17,
           18,
           21,
           22,
           23,
           24,
           25,
           48,
           27,
           28,
           29,
           1,
           49,
           49,
           49,
           4,
           49,
           7,
           49,
           49,
           49,
           12,
           49,
           14,
           16,
           17,
           19,
           21,
           24,
           25,
           49,
           27,
           29,
           1,
           50,
           50,
           50,
           4,
           50,
           7,
           50,
           50,
           50,
           50,
           12,
           50,
           41,
           14,
           50,
           16,
           17,
           50,
           38,
           18,
           19,
           21,
           22,
           23,
           24,
           50,
           27,
           28,
           29,
           1,
           51,
           51,
           51,
           4,
           5,
           51,
           51,
           51,
           51,
           12,
           51,
           41,
           14,
           51,
           16,
           17,
           51,
           37,
           38,
           18,
           19,
           21,
           22,
           24,
           51,
           27,
           28,
           29,
           1,
           52,
           4,
           52,
           52,
           52,
           52,
           12,
           52,
           14,
           52,
           16,
           19,
           21,
           22,
           24,
           52,
           27,
           29,
           1,
           53,
           4,
           5,
           53,
           7,
           53,
           53,
           53,
           53,
           12,
           53,
           41,
           14,
           53,
           16,
           17,
           53,
           37,
           38,
           18,
           34,
           20,
           21,
           22,
           23,
           24,
           25,
           53,
           27,
           28,
           29,
           54,
           4,
           54,
           54,
           54,
           54,
           12,
           54,
           14,
           16,
           19,
           21,
           24,
           54,
           27,
           29,
           1,
           55,
           55,
           55,
           55,
           55,
           12,
           55,
           14,
           16,
           17,
           18,
           21,
           24,
           25,
           55,
           27,
           29,
           1,
           56,
           56,
           56,
           4,
           56,
           56,
           56,
           56,
           56,
           12,
           56,
           14,
           56,
           16,
           17,
           37,
           38,
           19,
           20,
           21,
           24,
           25,
           56,
           27,
           28,
           29,
           1,
           57,
           57,
           57,
           4,
           5,
           57,
           57,
           57,
           57,
           57,
           12,
           57,
           14,
           57,
           16,
           17,
           38,
           18,
           19,
           21,
           22,
           24,
           57,
           27,
           28,
           29,
           1,
           58,
           4,
           58,
           58,
           58,
           58,
           12,
           58,
           14,
           58,
           16,
           17,
           18,
           19,
           20,
           21,
           24,
           25,
           58,
           27,
           29
          ],
          "target": [
           0,
           2,
           3,
           0,
           0,
           6,
           0,
           8,
           9,
           10,
           11,
           0,
           13,
           0,
           15,
           0,
           0,
           0,
           0,
           0,
           0,
           0,
           0,
           0,
           0,
           26,
           0,
           0,
           0,
           30,
           3,
           6,
           8,
           9,
           11,
           30,
           13,
           30,
           30,
           30,
           30,
           26,
           30,
           30,
           30,
           2,
           3,
           31,
           31,
           6,
           8,
           9,
           10,
           11,
           31,
           13,
           31,
           15,
           31,
           32,
           33,
           31,
           31,
           31,
           31,
           26,
           31,
           31,
           35,
           2,
           3,
           36,
           35,
           6,
           35,
           8,
           9,
           10,
           11,
           35,
           13,
           35,
           15,
           35,
           35,
           32,
           33,
           35,
           35,
           35,
           35,
           35,
           35,
           35,
           35,
           35,
           35,
           35,
           35,
           26,
           35,
           35,
           35,
           40,
           2,
           3,
           36,
           40,
           40,
           6,
           40,
           8,
           9,
           10,
           11,
           40,
           13,
           40,
           40,
           15,
           40,
           40,
           40,
           33,
           40,
           40,
           40,
           40,
           40,
           40,
           40,
           40,
           40,
           40,
           40,
           26,
           40,
           40,
           40,
           43,
           2,
           3,
           36,
           43,
           43,
           6,
           8,
           9,
           10,
           11,
           43,
           13,
           43,
           15,
           43,
           43,
           43,
           33,
           43,
           43,
           43,
           43,
           43,
           43,
           43,
           43,
           43,
           43,
           43,
           26,
           43,
           43,
           43,
           44,
           2,
           3,
           36,
           6,
           8,
           9,
           11,
           44,
           13,
           44,
           15,
           44,
           44,
           44,
           44,
           44,
           44,
           44,
           44,
           44,
           26,
           44,
           44,
           44,
           45,
           3,
           45,
           6,
           45,
           8,
           9,
           10,
           11,
           45,
           13,
           45,
           45,
           45,
           45,
           45,
           45,
           45,
           45,
           45,
           45,
           45,
           26,
           45,
           45,
           46,
           2,
           3,
           36,
           46,
           6,
           8,
           9,
           10,
           11,
           46,
           13,
           46,
           46,
           46,
           33,
           46,
           46,
           46,
           46,
           46,
           26,
           46,
           46,
           46,
           3,
           6,
           8,
           9,
           11,
           47,
           13,
           47,
           47,
           47,
           47,
           26,
           47,
           47,
           48,
           3,
           48,
           6,
           48,
           8,
           9,
           11,
           48,
           13,
           48,
           15,
           48,
           48,
           48,
           48,
           48,
           48,
           48,
           48,
           26,
           48,
           48,
           48,
           49,
           2,
           3,
           36,
           49,
           6,
           49,
           8,
           9,
           11,
           49,
           13,
           49,
           49,
           49,
           49,
           49,
           49,
           49,
           26,
           49,
           49,
           50,
           2,
           3,
           36,
           50,
           6,
           50,
           8,
           9,
           10,
           11,
           50,
           13,
           50,
           50,
           15,
           50,
           50,
           33,
           50,
           50,
           50,
           50,
           50,
           50,
           50,
           26,
           50,
           50,
           50,
           51,
           2,
           3,
           36,
           51,
           51,
           6,
           8,
           9,
           11,
           51,
           13,
           51,
           51,
           15,
           51,
           51,
           32,
           51,
           51,
           51,
           51,
           51,
           51,
           51,
           26,
           51,
           51,
           51,
           52,
           3,
           52,
           6,
           8,
           9,
           11,
           52,
           13,
           52,
           15,
           52,
           52,
           52,
           52,
           52,
           26,
           52,
           52,
           53,
           3,
           53,
           53,
           6,
           53,
           8,
           9,
           10,
           11,
           53,
           13,
           53,
           53,
           15,
           53,
           53,
           33,
           53,
           53,
           53,
           53,
           53,
           53,
           53,
           53,
           53,
           53,
           26,
           53,
           53,
           53,
           3,
           54,
           6,
           8,
           9,
           11,
           54,
           13,
           54,
           54,
           54,
           54,
           54,
           26,
           54,
           54,
           55,
           3,
           6,
           8,
           9,
           11,
           55,
           13,
           55,
           55,
           55,
           55,
           55,
           55,
           55,
           26,
           55,
           55,
           56,
           2,
           3,
           36,
           56,
           6,
           8,
           9,
           10,
           11,
           56,
           13,
           56,
           15,
           56,
           56,
           56,
           56,
           56,
           56,
           56,
           56,
           56,
           26,
           56,
           56,
           56,
           57,
           2,
           3,
           36,
           57,
           57,
           6,
           8,
           9,
           10,
           11,
           57,
           13,
           57,
           15,
           57,
           57,
           57,
           57,
           57,
           57,
           57,
           57,
           26,
           57,
           57,
           57,
           58,
           3,
           58,
           6,
           8,
           9,
           11,
           58,
           13,
           58,
           15,
           58,
           58,
           58,
           58,
           58,
           58,
           58,
           58,
           26,
           58,
           58
          ],
          "value": [
           0.125,
           0.25,
           0.25,
           0.041666666666666664,
           0,
           0.25,
           1,
           0.25,
           0.25,
           0.25,
           0.25,
           0.125,
           0.5,
           0.375,
           0.5,
           0.25,
           0.5,
           0.5,
           0.25,
           1,
           0.3333333333333333,
           0.5,
           1,
           0.2916666666666667,
           1,
           0.25,
           0.2916666666666667,
           1,
           0.375,
           0,
           0,
           0,
           0,
           0,
           0,
           0,
           0,
           0,
           0.25,
           0,
           0,
           0,
           0,
           0,
           0,
           0.5,
           0.25,
           0,
           1,
           0.5,
           0,
           0,
           0.5,
           0.3333333333333333,
           0,
           0.25,
           0,
           0.5,
           0.25,
           0.5,
           0,
           0.5,
           0,
           0,
           0,
           0.5,
           0.25,
           0.25,
           0.5,
           0.16666666666666666,
           0.4375,
           0.3333333333333333,
           0.375,
           0.08333333333333333,
           1,
           0.0625,
           0.041666666666666664,
           0.35,
           0.0875,
           0.075,
           0.0375,
           0.08823529411764706,
           0.375,
           0.2625,
           0,
           0.25,
           0,
           0.1,
           0.5,
           0,
           0,
           0.10294117647058823,
           1,
           0.075,
           0.5,
           0.125,
           1,
           0.075,
           1,
           0.25,
           0.0625,
           0.4,
           0.0625,
           0.4074074074074074,
           0.6666666666666666,
           0.7708333333333334,
           0.75,
           0.5982142857142857,
           0.875,
           0.5089285714285714,
           1,
           0.6057692307692307,
           0.69,
           0.7976190476190477,
           0.6979166666666666,
           0.5178571428571429,
           0.6696428571428571,
           0.74,
           0.7019230769230769,
           0.5267857142857143,
           0.6923076923076923,
           0,
           0.18478260869565216,
           0.9,
           0.4722222222222222,
           0.34375,
           0,
           0.5384615384615384,
           0.8981481481481481,
           1,
           0.8035714285714286,
           0.7708333333333334,
           0.42857142857142855,
           1,
           0.5446428571428571,
           0.7589285714285714,
           0.7232142857142857,
           0.9230769230769231,
           0.7589285714285714,
           0.125,
           0.0625,
           0.5,
           0.1875,
           0,
           0.25,
           0.3,
           0.05,
           0,
           0,
           0.05,
           0.3,
           0.25,
           0.3,
           0,
           0.25,
           0,
           0,
           0,
           0.5,
           0,
           0,
           0.1,
           1,
           0,
           0,
           0.15,
           1,
           0.25,
           1,
           0.25,
           0.2,
           0,
           0.05,
           0,
           0.6071428571428571,
           0.25,
           0.5,
           0.875,
           0.53125,
           0.25,
           0.71875,
           0.53125,
           0.5,
           0.35714285714285715,
           0.25,
           0.25,
           0,
           0,
           0.20833333333333334,
           0,
           0.875,
           0.625,
           0,
           0.53125,
           0.25,
           0.46875,
           0.5,
           0.40625,
           0,
           0.3,
           0,
           0.2,
           1,
           0.2,
           0,
           0.25,
           0.25,
           0.4,
           0.4,
           0,
           0,
           0.25,
           0,
           0,
           1,
           0.25,
           0,
           1,
           0.4,
           1,
           0.25,
           0.2,
           0,
           0,
           0.4166666666666667,
           0.475,
           0.4166666666666667,
           0.75,
           0.525,
           0.4722222222222222,
           0.53125,
           0.5,
           0.375,
           0.45454545454545453,
           0.36363636363636365,
           0.3181818181818182,
           0.3181818181818182,
           0.0625,
           0.5,
           0,
           0.3,
           0.4772727272727273,
           0.2777777777777778,
           0.22727272727272727,
           0.3181818181818182,
           0.5227272727272727,
           0.4642857142857143,
           0.45454545454545453,
           0.275,
           0.25,
           0.15,
           0,
           0.25,
           0,
           0,
           0,
           0.25,
           0,
           0,
           0.025,
           0,
           0,
           0,
           0.25,
           0,
           0.25,
           1,
           0,
           0.25,
           0.25,
           0.4722222222222222,
           0.5,
           0,
           0.25,
           0.25,
           0,
           0,
           0.2222222222222222,
           0.5,
           1,
           0.4722222222222222,
           1,
           0.25,
           0.4722222222222222,
           1,
           0.2777777777777778,
           0.125,
           0.125,
           0.3076923076923077,
           0.25,
           0,
           0.25,
           1,
           0.17307692307692307,
           0.038461538461538464,
           0.19444444444444445,
           0.09615384615384616,
           0.11538461538461539,
           0,
           0.25,
           0,
           0,
           0.15384615384615385,
           0.1346153846153846,
           1,
           0.17307692307692307,
           0.09615384615384616,
           0.038461538461538464,
           0.050724637681159424,
           0.5,
           0.25,
           0.375,
           0,
           0.5845070422535211,
           1,
           0.32094594594594594,
           0.44256756756756754,
           0.6323529411764706,
           0.5902777777777778,
           0.5,
           0.37333333333333335,
           0.9375,
           0,
           0.25,
           0.25,
           0,
           0.375,
           0.25,
           0,
           0.14351851851851852,
           0.29605263157894735,
           0.36594202898550726,
           1,
           0.5,
           0.4266666666666667,
           0.555921052631579,
           0.5961538461538461,
           0.5098684210526315,
           0,
           0.75,
           0.425,
           0.7857142857142857,
           0,
           0.16666666666666666,
           0.85,
           0.725,
           0.675,
           0.85,
           0.65,
           0.5,
           0,
           0.65,
           0.075,
           0.2,
           0,
           0.7,
           0.25,
           0.4,
           0.225,
           0.9375,
           0.475,
           0.25,
           0.4,
           0.425,
           0.65,
           0.65,
           0.625,
           0,
           0.5,
           0,
           0.125,
           0.2916666666666667,
           0.2916666666666667,
           0.25,
           0.16666666666666666,
           0.25,
           0,
           0,
           0.25,
           0,
           0,
           0,
           0.16666666666666666,
           0.4583333333333333,
           0.08333333333333333,
           0.16666666666666666,
           0,
           0.43333333333333335,
           0.08333333333333333,
           0.25,
           0.1,
           1,
           0.08333333333333333,
           0.1,
           0,
           0.1,
           0.05357142857142857,
           0.15,
           0.25,
           0.022727272727272728,
           0.25,
           0.19642857142857142,
           0,
           0,
           0.5,
           0,
           0,
           0.25,
           1,
           0.03571428571428571,
           0.125,
           1,
           0.2857142857142857,
           1,
           0.2833333333333333,
           0.10714285714285714,
           0.16666666666666666,
           0.16071428571428573,
           0.5,
           0,
           0.25,
           0.25,
           0.25,
           0.25,
           0,
           0.5,
           0,
           0.25,
           0,
           0,
           0,
           0.5,
           0.25,
           0.25,
           0,
           0.25,
           0.25,
           0,
           0,
           0.25,
           0,
           0,
           0,
           0.25,
           0,
           0,
           0.5,
           0.25,
           1,
           0.25,
           0,
           0,
           0.038461538461538464,
           0.14285714285714285,
           0.3076923076923077,
           0.2857142857142857,
           0,
           0.39285714285714285,
           0.55,
           0.36666666666666664,
           0.25,
           0.25,
           0.25,
           0.21666666666666667,
           0.26666666666666666,
           0.7,
           0.25,
           0,
           0.5,
           0,
           0.39285714285714285,
           1,
           0.31666666666666665,
           0.35,
           1,
           0.2833333333333333,
           0.18333333333333332,
           0.5,
           0.06666666666666667,
           0.25,
           0.625,
           0.5,
           0.5,
           0,
           0,
           0.75,
           0.6666666666666666,
           0.4583333333333333,
           0.6875,
           0.625,
           0.375,
           0.4583333333333333,
           0,
           0.6,
           0.25,
           0,
           0.375,
           0,
           0.5833333333333334,
           0.1,
           0.95,
           0.3333333333333333,
           0.4166666666666667,
           0.5,
           0.625,
           0.4583333333333333,
           0.022727272727272728,
           0.25,
           0,
           0.13157894736842105,
           0.5,
           0.3625,
           0.175,
           0.375,
           0.0125,
           0,
           0.75,
           0.25,
           0,
           0,
           0,
           1,
           0.3875,
           0.35,
           1,
           0.5,
           0.4125,
           0.275
          ]
         },
         "node": {
          "label": [
           "Accommodation and food service activities",
           "Air Filtration",
           "Area of freshwater use",
           "Area of land use",
           "Biological control",
           "Biomass provisioning",
           "Disturbances (e.g noise, light)",
           "Education, scientific and research services",
           "Emissions of GHG",
           "Emissions of non-GHG air pollutants",
           "Emissions of nutrient soil and water pollutants",
           "Emissions of toxic soil and water pollutants",
           "Flood mitigation services",
           "Generation and release of solid waste",
           "Global climate regulation",
           "Introduction of invasive species",
           "Local (micro and meso) climate regulation",
           "Noise attenuation ",
           "Other regulating and maintenance service - Mediation of sensory impacts (other than noise)",
           "Rainfall pattern regulation",
           "Recreation related services",
           "Soil and sediment retention",
           "Solid waste remediation",
           "Spiritual, artistic and symbolic services",
           "Storm mitigation",
           "Visual amenity services",
           "Volume of water use",
           "Water flow regulation",
           "Water purification",
           "Water supply",
           "Activities of extraterritorial organizations and bodies",
           "Activities of households as employers; undifferentiated goods- and services-producing activities of households for own use",
           "Other abiotic resource extraction",
           "Other biotic resource extraction (e.g. fish, timber)",
           "Pollination",
           "Administrative and support service activities",
           "Area of seabed use",
           "Other provisioning services - Animal-based energy",
           "Other regulating and maintenance service - Dilution by atmosphere and ecosystems",
           "Soil quality regulation",
           "Agriculture, forestry and fishing",
           "Genetic material",
           "Nursery population and habitat maintenance",
           "Arts, entertainment and recreation",
           "Construction",
           "Education",
           "Electricity, gas, steam and air conditioning supply",
           "Financial and insurance activities",
           "Human health and social work activities",
           "Information and communication",
           "Manufacturing",
           "Mining and quarrying",
           "Other service activities",
           "Professional, scientific and technical activities",
           "Public administration and defence; compulsory social security",
           "Real estate activities",
           "Transportation and storage",
           "Water supply; sewerage, waste management and remediation activities",
           "Wholesale and retail trade; repair of motor vehicles and motorcycles"
          ],
          "line": {
           "color": "black",
           "width": 0.5
          },
          "pad": 15,
          "thickness": 20,
          "x": [
           0.5,
           0,
           1,
           1,
           0,
           0,
           1,
           0,
           1,
           1,
           1,
           1,
           0,
           1,
           0,
           1,
           0,
           0,
           0,
           0,
           0,
           0,
           0,
           0,
           0,
           0,
           1,
           0,
           0,
           0,
           0.5,
           0.5,
           1,
           1,
           0,
           0.5,
           1,
           0,
           0,
           0,
           0.5,
           0,
           0,
           0.5,
           0.5,
           0.5,
           0.5,
           0.5,
           0.5,
           0.5,
           0.5,
           0.5,
           0.5,
           0.5,
           0.5,
           0.5,
           0.5,
           0.5,
           0.5
          ],
          "y": [
           0.1,
           0.1,
           0.1,
           0.1,
           0.1,
           0.1,
           0.1,
           0.1,
           0.1,
           0.1,
           0.1,
           0.1,
           0.1,
           0.1,
           0.1,
           0.1,
           0.1,
           0.1,
           0.1,
           0.1,
           0.1,
           0.1,
           0.1,
           0.1,
           0.1,
           0.1,
           0.1,
           0.1,
           0.1,
           0.1,
           0.1,
           0.1,
           0.1,
           0.1,
           0.1,
           0.1,
           0.1,
           0.1,
           0.1,
           0.1,
           0.1,
           0.1,
           0.1,
           0.1,
           0.1,
           0.1,
           0.1,
           0.1,
           0.1,
           0.1,
           0.1,
           0.1,
           0.1,
           0.1,
           0.1,
           0.1,
           0.1,
           0.1,
           0.1
          ]
         },
         "type": "sankey"
        }
       ],
       "layout": {
        "height": 768,
        "template": {
         "data": {
          "bar": [
           {
            "error_x": {
             "color": "#f2f5fa"
            },
            "error_y": {
             "color": "#f2f5fa"
            },
            "marker": {
             "line": {
              "color": "rgb(17,17,17)",
              "width": 0.5
             },
             "pattern": {
              "fillmode": "overlay",
              "size": 10,
              "solidity": 0.2
             }
            },
            "type": "bar"
           }
          ],
          "barpolar": [
           {
            "marker": {
             "line": {
              "color": "rgb(17,17,17)",
              "width": 0.5
             },
             "pattern": {
              "fillmode": "overlay",
              "size": 10,
              "solidity": 0.2
             }
            },
            "type": "barpolar"
           }
          ],
          "carpet": [
           {
            "aaxis": {
             "endlinecolor": "#A2B1C6",
             "gridcolor": "#506784",
             "linecolor": "#506784",
             "minorgridcolor": "#506784",
             "startlinecolor": "#A2B1C6"
            },
            "baxis": {
             "endlinecolor": "#A2B1C6",
             "gridcolor": "#506784",
             "linecolor": "#506784",
             "minorgridcolor": "#506784",
             "startlinecolor": "#A2B1C6"
            },
            "type": "carpet"
           }
          ],
          "choropleth": [
           {
            "colorbar": {
             "outlinewidth": 0,
             "ticks": ""
            },
            "type": "choropleth"
           }
          ],
          "contour": [
           {
            "colorbar": {
             "outlinewidth": 0,
             "ticks": ""
            },
            "colorscale": [
             [
              0,
              "#0d0887"
             ],
             [
              0.1111111111111111,
              "#46039f"
             ],
             [
              0.2222222222222222,
              "#7201a8"
             ],
             [
              0.3333333333333333,
              "#9c179e"
             ],
             [
              0.4444444444444444,
              "#bd3786"
             ],
             [
              0.5555555555555556,
              "#d8576b"
             ],
             [
              0.6666666666666666,
              "#ed7953"
             ],
             [
              0.7777777777777778,
              "#fb9f3a"
             ],
             [
              0.8888888888888888,
              "#fdca26"
             ],
             [
              1,
              "#f0f921"
             ]
            ],
            "type": "contour"
           }
          ],
          "contourcarpet": [
           {
            "colorbar": {
             "outlinewidth": 0,
             "ticks": ""
            },
            "type": "contourcarpet"
           }
          ],
          "heatmap": [
           {
            "colorbar": {
             "outlinewidth": 0,
             "ticks": ""
            },
            "colorscale": [
             [
              0,
              "#0d0887"
             ],
             [
              0.1111111111111111,
              "#46039f"
             ],
             [
              0.2222222222222222,
              "#7201a8"
             ],
             [
              0.3333333333333333,
              "#9c179e"
             ],
             [
              0.4444444444444444,
              "#bd3786"
             ],
             [
              0.5555555555555556,
              "#d8576b"
             ],
             [
              0.6666666666666666,
              "#ed7953"
             ],
             [
              0.7777777777777778,
              "#fb9f3a"
             ],
             [
              0.8888888888888888,
              "#fdca26"
             ],
             [
              1,
              "#f0f921"
             ]
            ],
            "type": "heatmap"
           }
          ],
          "heatmapgl": [
           {
            "colorbar": {
             "outlinewidth": 0,
             "ticks": ""
            },
            "colorscale": [
             [
              0,
              "#0d0887"
             ],
             [
              0.1111111111111111,
              "#46039f"
             ],
             [
              0.2222222222222222,
              "#7201a8"
             ],
             [
              0.3333333333333333,
              "#9c179e"
             ],
             [
              0.4444444444444444,
              "#bd3786"
             ],
             [
              0.5555555555555556,
              "#d8576b"
             ],
             [
              0.6666666666666666,
              "#ed7953"
             ],
             [
              0.7777777777777778,
              "#fb9f3a"
             ],
             [
              0.8888888888888888,
              "#fdca26"
             ],
             [
              1,
              "#f0f921"
             ]
            ],
            "type": "heatmapgl"
           }
          ],
          "histogram": [
           {
            "marker": {
             "pattern": {
              "fillmode": "overlay",
              "size": 10,
              "solidity": 0.2
             }
            },
            "type": "histogram"
           }
          ],
          "histogram2d": [
           {
            "colorbar": {
             "outlinewidth": 0,
             "ticks": ""
            },
            "colorscale": [
             [
              0,
              "#0d0887"
             ],
             [
              0.1111111111111111,
              "#46039f"
             ],
             [
              0.2222222222222222,
              "#7201a8"
             ],
             [
              0.3333333333333333,
              "#9c179e"
             ],
             [
              0.4444444444444444,
              "#bd3786"
             ],
             [
              0.5555555555555556,
              "#d8576b"
             ],
             [
              0.6666666666666666,
              "#ed7953"
             ],
             [
              0.7777777777777778,
              "#fb9f3a"
             ],
             [
              0.8888888888888888,
              "#fdca26"
             ],
             [
              1,
              "#f0f921"
             ]
            ],
            "type": "histogram2d"
           }
          ],
          "histogram2dcontour": [
           {
            "colorbar": {
             "outlinewidth": 0,
             "ticks": ""
            },
            "colorscale": [
             [
              0,
              "#0d0887"
             ],
             [
              0.1111111111111111,
              "#46039f"
             ],
             [
              0.2222222222222222,
              "#7201a8"
             ],
             [
              0.3333333333333333,
              "#9c179e"
             ],
             [
              0.4444444444444444,
              "#bd3786"
             ],
             [
              0.5555555555555556,
              "#d8576b"
             ],
             [
              0.6666666666666666,
              "#ed7953"
             ],
             [
              0.7777777777777778,
              "#fb9f3a"
             ],
             [
              0.8888888888888888,
              "#fdca26"
             ],
             [
              1,
              "#f0f921"
             ]
            ],
            "type": "histogram2dcontour"
           }
          ],
          "mesh3d": [
           {
            "colorbar": {
             "outlinewidth": 0,
             "ticks": ""
            },
            "type": "mesh3d"
           }
          ],
          "parcoords": [
           {
            "line": {
             "colorbar": {
              "outlinewidth": 0,
              "ticks": ""
             }
            },
            "type": "parcoords"
           }
          ],
          "pie": [
           {
            "automargin": true,
            "type": "pie"
           }
          ],
          "scatter": [
           {
            "marker": {
             "line": {
              "color": "#283442"
             }
            },
            "type": "scatter"
           }
          ],
          "scatter3d": [
           {
            "line": {
             "colorbar": {
              "outlinewidth": 0,
              "ticks": ""
             }
            },
            "marker": {
             "colorbar": {
              "outlinewidth": 0,
              "ticks": ""
             }
            },
            "type": "scatter3d"
           }
          ],
          "scattercarpet": [
           {
            "marker": {
             "colorbar": {
              "outlinewidth": 0,
              "ticks": ""
             }
            },
            "type": "scattercarpet"
           }
          ],
          "scattergeo": [
           {
            "marker": {
             "colorbar": {
              "outlinewidth": 0,
              "ticks": ""
             }
            },
            "type": "scattergeo"
           }
          ],
          "scattergl": [
           {
            "marker": {
             "line": {
              "color": "#283442"
             }
            },
            "type": "scattergl"
           }
          ],
          "scattermapbox": [
           {
            "marker": {
             "colorbar": {
              "outlinewidth": 0,
              "ticks": ""
             }
            },
            "type": "scattermapbox"
           }
          ],
          "scatterpolar": [
           {
            "marker": {
             "colorbar": {
              "outlinewidth": 0,
              "ticks": ""
             }
            },
            "type": "scatterpolar"
           }
          ],
          "scatterpolargl": [
           {
            "marker": {
             "colorbar": {
              "outlinewidth": 0,
              "ticks": ""
             }
            },
            "type": "scatterpolargl"
           }
          ],
          "scatterternary": [
           {
            "marker": {
             "colorbar": {
              "outlinewidth": 0,
              "ticks": ""
             }
            },
            "type": "scatterternary"
           }
          ],
          "surface": [
           {
            "colorbar": {
             "outlinewidth": 0,
             "ticks": ""
            },
            "colorscale": [
             [
              0,
              "#0d0887"
             ],
             [
              0.1111111111111111,
              "#46039f"
             ],
             [
              0.2222222222222222,
              "#7201a8"
             ],
             [
              0.3333333333333333,
              "#9c179e"
             ],
             [
              0.4444444444444444,
              "#bd3786"
             ],
             [
              0.5555555555555556,
              "#d8576b"
             ],
             [
              0.6666666666666666,
              "#ed7953"
             ],
             [
              0.7777777777777778,
              "#fb9f3a"
             ],
             [
              0.8888888888888888,
              "#fdca26"
             ],
             [
              1,
              "#f0f921"
             ]
            ],
            "type": "surface"
           }
          ],
          "table": [
           {
            "cells": {
             "fill": {
              "color": "#506784"
             },
             "line": {
              "color": "rgb(17,17,17)"
             }
            },
            "header": {
             "fill": {
              "color": "#2a3f5f"
             },
             "line": {
              "color": "rgb(17,17,17)"
             }
            },
            "type": "table"
           }
          ]
         },
         "layout": {
          "annotationdefaults": {
           "arrowcolor": "#f2f5fa",
           "arrowhead": 0,
           "arrowwidth": 1
          },
          "autotypenumbers": "strict",
          "coloraxis": {
           "colorbar": {
            "outlinewidth": 0,
            "ticks": ""
           }
          },
          "colorscale": {
           "diverging": [
            [
             0,
             "#8e0152"
            ],
            [
             0.1,
             "#c51b7d"
            ],
            [
             0.2,
             "#de77ae"
            ],
            [
             0.3,
             "#f1b6da"
            ],
            [
             0.4,
             "#fde0ef"
            ],
            [
             0.5,
             "#f7f7f7"
            ],
            [
             0.6,
             "#e6f5d0"
            ],
            [
             0.7,
             "#b8e186"
            ],
            [
             0.8,
             "#7fbc41"
            ],
            [
             0.9,
             "#4d9221"
            ],
            [
             1,
             "#276419"
            ]
           ],
           "sequential": [
            [
             0,
             "#0d0887"
            ],
            [
             0.1111111111111111,
             "#46039f"
            ],
            [
             0.2222222222222222,
             "#7201a8"
            ],
            [
             0.3333333333333333,
             "#9c179e"
            ],
            [
             0.4444444444444444,
             "#bd3786"
            ],
            [
             0.5555555555555556,
             "#d8576b"
            ],
            [
             0.6666666666666666,
             "#ed7953"
            ],
            [
             0.7777777777777778,
             "#fb9f3a"
            ],
            [
             0.8888888888888888,
             "#fdca26"
            ],
            [
             1,
             "#f0f921"
            ]
           ],
           "sequentialminus": [
            [
             0,
             "#0d0887"
            ],
            [
             0.1111111111111111,
             "#46039f"
            ],
            [
             0.2222222222222222,
             "#7201a8"
            ],
            [
             0.3333333333333333,
             "#9c179e"
            ],
            [
             0.4444444444444444,
             "#bd3786"
            ],
            [
             0.5555555555555556,
             "#d8576b"
            ],
            [
             0.6666666666666666,
             "#ed7953"
            ],
            [
             0.7777777777777778,
             "#fb9f3a"
            ],
            [
             0.8888888888888888,
             "#fdca26"
            ],
            [
             1,
             "#f0f921"
            ]
           ]
          },
          "colorway": [
           "#636efa",
           "#EF553B",
           "#00cc96",
           "#ab63fa",
           "#FFA15A",
           "#19d3f3",
           "#FF6692",
           "#B6E880",
           "#FF97FF",
           "#FECB52"
          ],
          "font": {
           "color": "#f2f5fa"
          },
          "geo": {
           "bgcolor": "rgb(17,17,17)",
           "lakecolor": "rgb(17,17,17)",
           "landcolor": "rgb(17,17,17)",
           "showlakes": true,
           "showland": true,
           "subunitcolor": "#506784"
          },
          "hoverlabel": {
           "align": "left"
          },
          "hovermode": "closest",
          "mapbox": {
           "style": "dark"
          },
          "paper_bgcolor": "rgb(17,17,17)",
          "plot_bgcolor": "rgb(17,17,17)",
          "polar": {
           "angularaxis": {
            "gridcolor": "#506784",
            "linecolor": "#506784",
            "ticks": ""
           },
           "bgcolor": "rgb(17,17,17)",
           "radialaxis": {
            "gridcolor": "#506784",
            "linecolor": "#506784",
            "ticks": ""
           }
          },
          "scene": {
           "xaxis": {
            "backgroundcolor": "rgb(17,17,17)",
            "gridcolor": "#506784",
            "gridwidth": 2,
            "linecolor": "#506784",
            "showbackground": true,
            "ticks": "",
            "zerolinecolor": "#C8D4E3"
           },
           "yaxis": {
            "backgroundcolor": "rgb(17,17,17)",
            "gridcolor": "#506784",
            "gridwidth": 2,
            "linecolor": "#506784",
            "showbackground": true,
            "ticks": "",
            "zerolinecolor": "#C8D4E3"
           },
           "zaxis": {
            "backgroundcolor": "rgb(17,17,17)",
            "gridcolor": "#506784",
            "gridwidth": 2,
            "linecolor": "#506784",
            "showbackground": true,
            "ticks": "",
            "zerolinecolor": "#C8D4E3"
           }
          },
          "shapedefaults": {
           "line": {
            "color": "#f2f5fa"
           }
          },
          "sliderdefaults": {
           "bgcolor": "#C8D4E3",
           "bordercolor": "rgb(17,17,17)",
           "borderwidth": 1,
           "tickwidth": 0
          },
          "ternary": {
           "aaxis": {
            "gridcolor": "#506784",
            "linecolor": "#506784",
            "ticks": ""
           },
           "baxis": {
            "gridcolor": "#506784",
            "linecolor": "#506784",
            "ticks": ""
           },
           "bgcolor": "rgb(17,17,17)",
           "caxis": {
            "gridcolor": "#506784",
            "linecolor": "#506784",
            "ticks": ""
           }
          },
          "title": {
           "x": 0.05
          },
          "updatemenudefaults": {
           "bgcolor": "#506784",
           "borderwidth": 0
          },
          "xaxis": {
           "automargin": true,
           "gridcolor": "#283442",
           "linecolor": "#506784",
           "ticks": "",
           "title": {
            "standoff": 15
           },
           "zerolinecolor": "#283442",
           "zerolinewidth": 2
          },
          "yaxis": {
           "automargin": true,
           "gridcolor": "#283442",
           "linecolor": "#506784",
           "ticks": "",
           "title": {
            "standoff": 15
           },
           "zerolinecolor": "#283442",
           "zerolinewidth": 2
          }
         }
        },
        "title": {
         "text": "<b>Dependency to pressure flows</b><br>Mean Ratings by ISIC Section"
        },
        "width": 1400
       }
      }
     },
     "metadata": {},
     "output_type": "display_data"
    }
   ],
   "source": [
    "# It gets a bit messy this, I'm used to building networks from the ground up,\n",
    "# I think there's a better way with pandas series, but this works\n",
    "\n",
    "# Initialise some objects we'll need\n",
    "nodes = {}\n",
    "edges = {\n",
    "    \"source\": [],\n",
    "    \"target\": [],\n",
    "    \"value\": [],\n",
    "    \"label\": [],\n",
    "    \"color\": [],\n",
    "}\n",
    "\n",
    "# Plotly wants unique node ids rather than labels to id links\n",
    "node_id = 0\n",
    "\n",
    "# Loop through the data and build the nodes and edges\n",
    "for _, row in (\n",
    "    df.groupby([\"section\", \"ecol\", \"relationship_type\"])[\"rating\"]\n",
    "    .mean()  # Again, we're working on the section mean for ease of plotting and interpretation\n",
    "    .reset_index()\n",
    "    .iterrows()\n",
    "):\n",
    "    if row[\"section\"] not in nodes:\n",
    "        # Basic node data for economic activities\n",
    "        nodes[row[\"section\"]] = {}\n",
    "        nodes[row[\"section\"]][\"id\"] = node_id\n",
    "        nodes[row[\"section\"]][\"label\"] = row[\"section\"]\n",
    "        nodes[row[\"section\"]][\"type\"] = \"Economic Activity\"\n",
    "\n",
    "        # Each new node bumps the id\n",
    "        node_id += 1\n",
    "\n",
    "    if row[\"ecol\"] not in nodes:\n",
    "        # Pretty much the same as above\n",
    "        nodes[row[\"ecol\"]] = {}\n",
    "        nodes[row[\"ecol\"]][\"id\"] = node_id\n",
    "        nodes[row[\"ecol\"]][\"label\"] = row[\"ecol\"]\n",
    "        nodes[row[\"ecol\"]][\"type\"] = row[\n",
    "            \"relationship_type\"\n",
    "        ].title()  # They're lowercase in the data\n",
    "\n",
    "        # As above\n",
    "        node_id += 1\n",
    "\n",
    "    # Add the edge data, order is important here, dependency is the source and activity is the target\n",
    "    if row[\"relationship_type\"] == \"dependency\":\n",
    "        edges[\"source\"].append(nodes[row[\"ecol\"]][\"id\"])\n",
    "        edges[\"target\"].append(nodes[row[\"section\"]][\"id\"])\n",
    "\n",
    "    # But if it's pressure, we want to reverse the order\n",
    "    else:\n",
    "        edges[\"source\"].append(nodes[row[\"section\"]][\"id\"])\n",
    "        edges[\"target\"].append(nodes[row[\"ecol\"]][\"id\"])\n",
    "\n",
    "    # Add the rating and label to our edge data\n",
    "    edges[\"value\"].append(row[\"rating\"])\n",
    "    edges[\"label\"].append(row[\"relationship_type\"].title())\n",
    "\n",
    "# Positioning is important, as plotly wants to arrange things so in a way that puts\n",
    "# the most connected nodes in the middle, I want to keep the economic activities in the middle.\n",
    "\n",
    "\n",
    "# This manually sets the horizontal position of the nodes\n",
    "def horizontal_position(node):\n",
    "    if node[\"type\"] == \"Economic Activity\":\n",
    "        return 0.5\n",
    "    elif node[\"type\"] == \"Dependency\":\n",
    "        return 0\n",
    "    else:\n",
    "        return 1\n",
    "\n",
    "\n",
    "# The plot itself\n",
    "fig = go.Figure(\n",
    "    data=[\n",
    "        go.Sankey(\n",
    "            arrangement=\"snap\",\n",
    "            node=dict(\n",
    "                # Most of this is just defaults from the docs\n",
    "                pad=15,\n",
    "                thickness=20,\n",
    "                line=dict(color=\"black\", width=0.5),\n",
    "                label=[node[\"label\"] for node in nodes.values()],\n",
    "                # Here we do the positioning with the function above\n",
    "                x=[horizontal_position(node) for node in nodes.values()],\n",
    "                # Plotly ignores xs if ys not specified, so I just set them all to 0.1\n",
    "                y=[0.1 for node in nodes.values()],\n",
    "            ),\n",
    "            link=dict(\n",
    "                # Sources and targets\n",
    "                source=edges[\"source\"],\n",
    "                target=edges[\"target\"],\n",
    "                value=edges[\"value\"],\n",
    "                # Styling, a nice hard white for the hover and a very mellow and transparent green for the fill\n",
    "                color=\"rgba(119, 221, 119, 0.1)\",\n",
    "                hovercolor=\"white\",\n",
    "                hovertemplate=\"%{source.label}<br/> -> %{target.label}<extra></extra>\",\n",
    "            ),\n",
    "        )\n",
    "    ]\n",
    ")\n",
    "\n",
    "# Add a title\n",
    "fig.update_layout(\n",
    "    title=\"<b>Dependency to pressure flows</b><br>Mean Ratings by ISIC Section\"\n",
    ")\n",
    "\n",
    "# Dark theme\n",
    "fig.update_layout(template=\"plotly_dark\")\n",
    "\n",
    "# Size\n",
    "fig.update_layout(width=1400, height=768)\n",
    "\n",
    "# Show without the plotly toolbar\n",
    "fig.show(config={\"displayModeBar\": False})\n",
    "\n",
    "# export to html\n",
    "pio.write_html(\n",
    "    fig, \"charts/dependency_pressure_sankey.html\", config={\"displayModeBar\": False}\n",
    ")"
   ]
  },
  {
   "cell_type": "markdown",
   "metadata": {},
   "source": [
    "## Wrapping up\n",
    "\n",
    "This was a pretty quick excersise. The difficult bits were:\n",
    "- Getting my head around what ENCORE is and does.\n",
    "- Dealing with some of plotly's more obscure features, Sankey plots are pretty new to me so that was particularly interesting.\n",
    "- An ill-fated attempt to get this notebook converted to a reveal.js-based presentation. Doable, but dealing with all the weird little visual bugs was a bit much for a screening call. Another time, perhaps.\n",
    "\n",
    "## Possible continuation\n",
    "If I were to continue working with this data I would:\n",
    "- Speak to end-users before doing _anything_.\n",
    "- Fully clean and restructure the CSV data published on [encorenature.org](encorenature.org), for example:\n",
    "    - Consolidate descriptive sheets (e.g., Dependency links) with quantitative sheets (e.g., Dependency materiality ratings) using a \"tall\" format.\n",
    "    - Ensure all entities throughout the database have a unique reference to simplify merges and joins.\n",
    "    - Consider options for publication in machine-readable format (e.g., JSON).\n",
    "    - Validate hyperlinks in the references, several were broken.\n",
    "- Incorporate more descriptive data into plots. For example providing full decriptive detail of the nature of a dependency/pressure in the scatter.\n",
    "- Use Dash or D3 to make the plots fully interactive, for example allowing traversal between ISIC levels, filtering etc.\n",
    "- Examine options for making further use of the geodata hosted on [encorenature.org](encorenature.org)"
   ]
  }
 ],
 "metadata": {
  "kernelspec": {
   "display_name": "base",
   "language": "python",
   "name": "python3"
  },
  "language_info": {
   "codemirror_mode": {
    "name": "ipython",
    "version": 3
   },
   "file_extension": ".py",
   "mimetype": "text/x-python",
   "name": "python",
   "nbconvert_exporter": "python",
   "pygments_lexer": "ipython3",
   "version": "3.12.6"
  }
 },
 "nbformat": 4,
 "nbformat_minor": 2
}
